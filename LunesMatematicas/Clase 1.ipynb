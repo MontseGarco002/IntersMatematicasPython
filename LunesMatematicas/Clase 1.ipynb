{
 "cells": [
  {
   "cell_type": "markdown",
   "id": "6dafa549",
   "metadata": {},
   "source": [
    "# Tipo de Datos con Python"
   ]
  },
  {
   "cell_type": "code",
   "execution_count": 8,
   "id": "ff114e03",
   "metadata": {},
   "outputs": [],
   "source": [
    "from decimal import Decimal #decimales\n",
    "from decimal import getcontext \n",
    "from decimal import localcontext\n",
    "from fractions import Fraction #Fracciones\n",
    "import math\n",
    "\n",
    "ctx=getcontext()"
   ]
  },
  {
   "cell_type": "markdown",
   "id": "66362585",
   "metadata": {},
   "source": [
    "Tipo de dato Decimal "
   ]
  },
  {
   "cell_type": "code",
   "execution_count": 15,
   "id": "eb457414",
   "metadata": {},
   "outputs": [
    {
     "name": "stdout",
     "output_type": "stream",
     "text": [
      "1.591762853913506675478761581\n"
     ]
    }
   ],
   "source": [
    "num1=Decimal('1.12323232')\n",
    "print(num1**4) #Potencia **"
   ]
  },
  {
   "cell_type": "code",
   "execution_count": 17,
   "id": "402cc61c",
   "metadata": {},
   "outputs": [
    {
     "name": "stdout",
     "output_type": "stream",
     "text": [
      "1.59\n"
     ]
    }
   ],
   "source": [
    "ctx.prec = 3 #cambiamos los a 3 números\n",
    "print(num1**4) #Potencia **"
   ]
  },
  {
   "cell_type": "code",
   "execution_count": 20,
   "id": "a398b677",
   "metadata": {},
   "outputs": [
    {
     "name": "stdout",
     "output_type": "stream",
     "text": [
      "1.6\n",
      "1.59\n"
     ]
    }
   ],
   "source": [
    "with localcontext() as ctx:\n",
    "    ctx.prec=2\n",
    "    print(num1**4)\n",
    "print(num1**4)"
   ]
  },
  {
   "cell_type": "code",
   "execution_count": 22,
   "id": "00ceed3f",
   "metadata": {},
   "outputs": [
    {
     "name": "stdout",
     "output_type": "stream",
     "text": [
      "(4+2j)\n"
     ]
    }
   ],
   "source": [
    "z=1 + 2j\n",
    "print(z+3)"
   ]
  },
  {
   "cell_type": "code",
   "execution_count": 24,
   "id": "2883da11",
   "metadata": {},
   "outputs": [
    {
     "name": "stdout",
     "output_type": "stream",
     "text": [
      "7/10\n"
     ]
    }
   ],
   "source": [
    "num2 = Fraction(1,2) #Fracciones\n",
    "num3 = Fraction(1,5)\n",
    "print(num2+num3)"
   ]
  },
  {
   "cell_type": "code",
   "execution_count": 27,
   "id": "34b63fe0",
   "metadata": {
    "scrolled": false
   },
   "outputs": [
    {
     "data": {
      "text/plain": [
       "8.0"
      ]
     },
     "execution_count": 27,
     "metadata": {},
     "output_type": "execute_result"
    }
   ],
   "source": [
    "math.sqrt(64)"
   ]
  },
  {
   "cell_type": "code",
   "execution_count": 29,
   "id": "e8a22179",
   "metadata": {},
   "outputs": [
    {
     "name": "stdout",
     "output_type": "stream",
     "text": [
      "0.7071067811865476\n",
      "0.7071067811865476\n",
      "0.9999999999999999\n"
     ]
    }
   ],
   "source": [
    "theta = math.pi/4\n",
    "#Seno, coseno, tangente\n",
    "print(math.sin(theta))\n",
    "print(math.cos(theta))\n",
    "print(math.tan(theta))"
   ]
  },
  {
   "cell_type": "code",
   "execution_count": 33,
   "id": "afc425cf",
   "metadata": {},
   "outputs": [
    {
     "name": "stdout",
     "output_type": "stream",
     "text": [
      "1.0\n",
      "2.0\n",
      "2.302585092994046\n"
     ]
    }
   ],
   "source": [
    "print(math.log(10,10)) #del número, con base \n",
    "print(math.log(25,5))\n",
    "print(math.log(10)) #base e"
   ]
  },
  {
   "cell_type": "code",
   "execution_count": 36,
   "id": "3c6425d2",
   "metadata": {},
   "outputs": [
    {
     "name": "stdout",
     "output_type": "stream",
     "text": [
      "2\n"
     ]
    }
   ],
   "source": [
    "print(math.gcd(2,4,8)) #maximo común divisor"
   ]
  },
  {
   "cell_type": "code",
   "execution_count": 39,
   "id": "5d65b641",
   "metadata": {
    "scrolled": true
   },
   "outputs": [
    {
     "name": "stdout",
     "output_type": "stream",
     "text": [
      "3\n",
      "6\n",
      "24\n"
     ]
    }
   ],
   "source": [
    "#tengo # cosas, hasme conjunto de #\n",
    "print(math.comb(3,2)) #Cuantas combinaciones\n",
    "print(math.perm(3,2)) #Permutaciones (le importa el orden)\n",
    "print(math.factorial(4)) #Factorial\n"
   ]
  },
  {
   "cell_type": "code",
   "execution_count": 42,
   "id": "64e1cf63",
   "metadata": {},
   "outputs": [
    {
     "name": "stdout",
     "output_type": "stream",
     "text": [
      "[0.1, 0.1, 0.1, 0.1, 0.1, 0.1, 0.1, 0.1, 0.1, 0.1]\n",
      "0.9999999999999999\n",
      "1.0\n"
     ]
    }
   ],
   "source": [
    "listNum = [.1]*10 #lista de 10 número de .1\n",
    "print(listNum)\n",
    "print(sum(listNum)) #Suma los valores de lista\n",
    "print(math.fsum(listNum)) #Suma los valores de lista redondeada"
   ]
  },
  {
   "cell_type": "code",
   "execution_count": 43,
   "id": "91ccbfc8",
   "metadata": {},
   "outputs": [
    {
     "name": "stdout",
     "output_type": "stream",
     "text": [
      "1\n",
      "2\n"
     ]
    }
   ],
   "source": [
    "print(math.floor(1.65)) #redondeo hacía abajo\n",
    "print(math.ceil(1.3)) #redondeo hacía arriba\n"
   ]
  }
 ],
 "metadata": {
  "kernelspec": {
   "display_name": "Python 3 (ipykernel)",
   "language": "python",
   "name": "python3"
  },
  "language_info": {
   "codemirror_mode": {
    "name": "ipython",
    "version": 3
   },
   "file_extension": ".py",
   "mimetype": "text/x-python",
   "name": "python",
   "nbconvert_exporter": "python",
   "pygments_lexer": "ipython3",
   "version": "3.9.13"
  }
 },
 "nbformat": 4,
 "nbformat_minor": 5
}
