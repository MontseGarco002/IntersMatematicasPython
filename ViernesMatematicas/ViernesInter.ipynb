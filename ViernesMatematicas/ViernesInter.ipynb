{
 "cells": [
  {
   "cell_type": "code",
   "execution_count": 1,
   "id": "2e6ad070",
   "metadata": {},
   "outputs": [],
   "source": [
    "import matplotlib.pyplot as plt\n",
    "import numpy as np\n",
    "import statistics as sts"
   ]
  },
  {
   "cell_type": "code",
   "execution_count": 14,
   "id": "2b42c651",
   "metadata": {},
   "outputs": [
    {
     "name": "stdout",
     "output_type": "stream",
     "text": [
      "[1.25 1.28 1.27 1.21 1.22 1.29 1.3  1.24 1.27 1.29 1.23 1.26 1.3  1.21\n",
      " 1.28 1.3  1.22 1.25 1.2  1.28 1.21 1.29 1.26 1.22 1.28 1.27 1.26 1.23\n",
      " 1.22 1.21] \n",
      "\n",
      "Altura máxima: 1.3 \n",
      "\n",
      "Altura mínimo: 1.2 \n",
      "\n",
      "Rango:  0.099999905 \n",
      " \n",
      "\n",
      "Los 5 estudiantes más altos:  [1.29 1.29 1.3  1.3  1.3 ]\n",
      "Los 5 estudiantes más bajos:  [1.2  1.21 1.21 1.21 1.21 1.22]\n",
      "Estudiantes de 1.25 o más de alturas:  18 \n",
      "\n",
      "% de estudiantes 1.24<= x <1.28:  30.0 %\n"
     ]
    }
   ],
   "source": [
    "arg1 = np.loadtxt('./datos0.csv',delimiter = ',', dtype = np.float32)\n",
    "print(arg1,\"\\n\")\n",
    "print(\"Altura máxima:\",np.max(arg1),\"\\n\")\n",
    "print(\"Altura mínimo:\",np.min(arg1),\"\\n\")\n",
    "print(\"Rango: \",np.max(arg1)-np.min(arg1),\"\\n\",\"\\n\")\n",
    "\n",
    "arg2 = np.sort(arg1)  #sort: ordena de menor a mayor\n",
    "print(\"Los 5 estudiantes más altos: \", arg2[-5:])\n",
    "print(\"Los 5 estudiantes más bajos: \", arg2[:6])\n",
    "\n",
    "\n",
    "suma1_25 = np.where(arg2>=1.25,1,0).sum() #Where: toma el arreglo y comprueba si cumple la condición\n",
    "#Si lo cumple escribe 1, si no 0. despues suma el 1 y el 0\n",
    "print(\"Estudiantes de 1.25 o más de alturas: \", suma1_25,\"\\n\")\n",
    "\n",
    "\n",
    "suma2 = np.where((arg1>=1.24) & (arg1<1.28),1,0).sum()/30\n",
    "print(\"% de estudiantes 1.24<= x <1.28: \",suma2*100,\"%\")\n",
    "\n",
    "\n",
    "\n"
   ]
  },
  {
   "cell_type": "code",
   "execution_count": 27,
   "id": "87e75af1",
   "metadata": {
    "scrolled": true
   },
   "outputs": [
    {
     "data": {
      "image/png": "[encoded data removed]",
      "text/plain": [
       "<Figure size 640x480 with 1 Axes>"
      ]
     },
     "metadata": {},
     "output_type": "display_data"
    }
   ],
   "source": [
    "fig,ax = plt.subplots()\n",
    "variables,repetidas = np.unique(arg2,return_counts = True)\n",
    "#print(variables,repetidas)\n",
    "\n",
    "frecuencia_absoluta_simple=repetidas\n",
    "frecuencia_absoluta_acumulada=np.cumsum(frecuencia_absoluta_simple)\n",
    "\n",
    "frecuencia_relativa_simple = np.round((((frecuencia_absoluta_simple)/30)*100),2)\n",
    "frecuencia_relativa_acumulada=np.cumsum(frecuencia_relativa_simple)\n",
    "\n",
    "#print(frecuencia_absoluta_simple,frecuencia_absoluta_acumulada,\"\\n\")\n",
    "#print(frecuencia_relativa_simple,frecuencia_relativa_acumulada)\n",
    "\n",
    "b = np.append(variables,1.31)\n",
    "frecuencias = ax.hist(arg2,bins=b,linewidth = 0.5, edgecolor = \"white\")\n",
    "ax.set(xlim=(1.19, 1.32), xticks=np.arange(1.2, 1.32,.01),\n",
    "       ylim=(1, 7), yticks=np.linspace(0, 6, 7,dtype=np.int16))\n",
    "#xlim = dimension de x, xticks = rango de las etiquetas, incrementa en 0.01\n",
    "#ylim = dimension de y, yticks = rango de etiquetas en y. linspace divisiones\n",
    "ax.grid()\n",
    "plt.show()"
   ]
  },
  {
   "cell_type": "code",
   "execution_count": 29,
   "id": "78d4ca09",
   "metadata": {
    "scrolled": true
   },
   "outputs": [
    {
     "name": "stdout",
     "output_type": "stream",
     "text": [
      "1.253333330154419\n",
      "1.2533334096272786\n",
      "1.2533334\n"
     ]
    }
   ],
   "source": [
    "#Media Aritmetica\n",
    "ma_agrupados = variables*repetidas\n",
    "print(np.sum(ma_agrupados)/30)\n",
    "print(np.sum(arg2)/30)\n",
    "print(np.mean(arg2))\n"
   ]
  },
  {
   "cell_type": "code",
   "execution_count": 32,
   "id": "91c48123",
   "metadata": {},
   "outputs": [
    {
     "name": "stdout",
     "output_type": "stream",
     "text": [
      "1.252927267164492\n",
      "1.252927269471094\n",
      "1.252927267164492\n",
      "1.2525204001195311\n",
      "Mediana 1.26\n",
      "Moda 1.21\n",
      "[1.21, 1.22, 1.28]\n",
      "[1.22, 1.26, 1.28]\n",
      "[1.21, 1.22, 1.22, 1.24, 1.26, 1.27, 1.28, 1.29, 1.3]\n",
      "[1.19, 1.2, 1.2, 1.2, 1.21, 1.21, 1.21, 1.21, 1.21, 1.21, 1.21, 1.21, 1.21, 1.21, 1.21, 1.21, 1.21, 1.22, 1.22, 1.22, 1.22, 1.22, 1.22, 1.22, 1.22, 1.22, 1.22, 1.22, 1.22, 1.22, 1.23, 1.23, 1.23, 1.23, 1.23, 1.23, 1.23, 1.24, 1.24, 1.24, 1.25, 1.25, 1.25, 1.25, 1.25, 1.25, 1.26, 1.26, 1.26, 1.26, 1.26, 1.26, 1.26, 1.26, 1.26, 1.26, 1.27, 1.27, 1.27, 1.27, 1.27, 1.27, 1.27, 1.27, 1.27, 1.27, 1.28, 1.28, 1.28, 1.28, 1.28, 1.28, 1.28, 1.28, 1.28, 1.28, 1.28, 1.28, 1.28, 1.29, 1.29, 1.29, 1.29, 1.29, 1.29, 1.29, 1.29, 1.29, 1.3, 1.3, 1.3, 1.3, 1.3, 1.3, 1.3, 1.3, 1.3, 1.3, 1.3]\n"
     ]
    }
   ],
   "source": [
    "#Media Geométrica datos agrupados\n",
    "media_g_agrupados=np.power(np.product(variables**repetidas),1/30)\n",
    "print(media_g_agrupados)\n",
    "\n",
    "#Media Geométrica de datos no agrupados\n",
    "media_g_noagrupados=np.power(np.product(arg2),1/30)\n",
    "print(media_g_noagrupados)\n",
    "\n",
    "#Media Geométrica con statistics\n",
    "print(sts.geometric_mean(arg2))\n",
    "\n",
    "#Media armónica H\n",
    "print(sts.harmonic_mean(arg2))\n",
    "\n",
    "#Mediana\n",
    "print(\"Mediana\", np.median(arg2))\n",
    "\n",
    "#Moda\n",
    "print(\"Moda\",sts.mode(arg2))\n",
    "\n",
    "#Multiples modas (distribución bimodal)\n",
    "print(sts.multimode(arg2))\n",
    "\n",
    "#Cuartiles\n",
    "print([round(q, 2) for q in sts.quantiles(arg2, n=4)])\n",
    "\n",
    "#Deciles\n",
    "print([round(q, 2) for q in sts.quantiles(arg2, n=10)])\n",
    "\n",
    "#percentiles\n",
    "print([round(q, 2) for q in sts.quantiles(arg2, n=100)])"
   ]
  }
 ],
 "metadata": {
  "kernelspec": {
   "display_name": "Python 3 (ipykernel)",
   "language": "python",
   "name": "python3"
  },
  "language_info": {
   "codemirror_mode": {
    "name": "ipython",
    "version": 3
   },
   "file_extension": ".py",
   "mimetype": "text/x-python",
   "name": "python",
   "nbconvert_exporter": "python",
   "pygments_lexer": "ipython3",
   "version": "3.9.13"
  }
 },
 "nbformat": 4,
 "nbformat_minor": 5
}
