{
 "cells": [
  {
   "cell_type": "code",
   "execution_count": 3,
   "id": "3a3c8ea5",
   "metadata": {},
   "outputs": [],
   "source": [
    "import numpy as np"
   ]
  },
  {
   "cell_type": "markdown",
   "id": "cd6e64d6",
   "metadata": {},
   "source": [
    "PRIMER EJERCICIO"
   ]
  },
  {
   "cell_type": "code",
   "execution_count": 4,
   "id": "8edd6b39",
   "metadata": {
    "scrolled": true
   },
   "outputs": [
    {
     "name": "stdout",
     "output_type": "stream",
     "text": [
      "[[0 0]\n",
      " [0 0]\n",
      " [0 0]]\n"
     ]
    }
   ],
   "source": [
    "A = np.array([[1,4],[-1,3],[1,-9]])\n",
    "cero = np.zeros((3,2))\n",
    "r = A - A\n",
    "print(r)"
   ]
  },
  {
   "cell_type": "markdown",
   "id": "dc092370",
   "metadata": {},
   "source": [
    "SEGUNDO EJERCICIO "
   ]
  },
  {
   "cell_type": "code",
   "execution_count": 9,
   "id": "02ad8364",
   "metadata": {},
   "outputs": [
    {
     "name": "stdout",
     "output_type": "stream",
     "text": [
      "[[ 3  0]\n",
      " [-1  5]]\n",
      "////////////////////////\n",
      "[[ 4 -2  1]\n",
      " [ 0  2  3]]\n"
     ]
    }
   ],
   "source": [
    "A = np.array([[3,0],[-1,5]])\n",
    "B = np.array([[4,-2,1],[0,2,3]])\n",
    "print(A)\n",
    "print(\"////////////////////////\")\n",
    "print(B)"
   ]
  },
  {
   "cell_type": "code",
   "execution_count": 14,
   "id": "9c1b23e4",
   "metadata": {
    "scrolled": true
   },
   "outputs": [
    {
     "name": "stdout",
     "output_type": "stream",
     "text": [
      "A + (3B)\n"
     ]
    },
    {
     "ename": "ValueError",
     "evalue": "operands could not be broadcast together with shapes (2,3) (2,2) ",
     "output_type": "error",
     "traceback": [
      "\u001b[1;31m---------------------------------------------------------------------------\u001b[0m",
      "\u001b[1;31mValueError\u001b[0m                                Traceback (most recent call last)",
      "\u001b[1;32m~\\AppData\\Local\\Temp\\ipykernel_3820\\3697589519.py\u001b[0m in \u001b[0;36m<module>\u001b[1;34m\u001b[0m\n\u001b[0;32m      1\u001b[0m \u001b[0mprint\u001b[0m\u001b[1;33m(\u001b[0m\u001b[1;34m\"A + (3B)\"\u001b[0m\u001b[1;33m)\u001b[0m\u001b[1;33m\u001b[0m\u001b[1;33m\u001b[0m\u001b[0m\n\u001b[0;32m      2\u001b[0m \u001b[0mB3\u001b[0m \u001b[1;33m=\u001b[0m \u001b[1;36m3\u001b[0m \u001b[1;33m*\u001b[0m \u001b[0mB\u001b[0m\u001b[1;33m\u001b[0m\u001b[1;33m\u001b[0m\u001b[0m\n\u001b[1;32m----> 3\u001b[1;33m \u001b[0mR1\u001b[0m \u001b[1;33m=\u001b[0m \u001b[0mB3\u001b[0m \u001b[1;33m*\u001b[0m \u001b[0mA\u001b[0m\u001b[1;33m\u001b[0m\u001b[1;33m\u001b[0m\u001b[0m\n\u001b[0m\u001b[0;32m      4\u001b[0m \u001b[0mprint\u001b[0m\u001b[1;33m(\u001b[0m\u001b[1;34m\"Solo se puede realizar la multiplicación de la matriz B * 3\"\u001b[0m\u001b[1;33m)\u001b[0m\u001b[1;33m\u001b[0m\u001b[1;33m\u001b[0m\u001b[0m\n\u001b[0;32m      5\u001b[0m \u001b[0mprint\u001b[0m\u001b[1;33m(\u001b[0m\u001b[0mB3\u001b[0m\u001b[1;33m)\u001b[0m\u001b[1;33m\u001b[0m\u001b[1;33m\u001b[0m\u001b[0m\n",
      "\u001b[1;31mValueError\u001b[0m: operands could not be broadcast together with shapes (2,3) (2,2) "
     ]
    }
   ],
   "source": [
    "print(\"A + (3B)\")\n",
    "B3 = 3 * B\n",
    "print(\"Solo se puede realizar la multiplicación de la matriz B * 3\")\n",
    "print(B3)"
   ]
  },
  {
   "cell_type": "code",
   "execution_count": 11,
   "id": "08961915",
   "metadata": {},
   "outputs": [
    {
     "name": "stdout",
     "output_type": "stream",
     "text": [
      "A*B\n",
      "[[12 -6  3]\n",
      " [-4 12 14]]\n"
     ]
    }
   ],
   "source": [
    "print(\"A*B\")\n",
    "r2= A@B\n",
    "print(r2)"
   ]
  },
  {
   "cell_type": "code",
   "execution_count": 12,
   "id": "885292d1",
   "metadata": {},
   "outputs": [
    {
     "name": "stdout",
     "output_type": "stream",
     "text": [
      "A^3\n",
      "[[ 27   0]\n",
      " [ -1 125]]\n"
     ]
    }
   ],
   "source": [
    "print(\"A^3\")\n",
    "r3 = A**3\n",
    "print(r3)"
   ]
  },
  {
   "cell_type": "code",
   "execution_count": 13,
   "id": "cbb4337d",
   "metadata": {},
   "outputs": [
    {
     "name": "stdout",
     "output_type": "stream",
     "text": [
      "B^2\n",
      "[[16  4  1]\n",
      " [ 0  4  9]]\n"
     ]
    }
   ],
   "source": [
    "print(\"B^2\")\n",
    "r4 = B**2\n",
    "print(r4)"
   ]
  },
  {
   "cell_type": "code",
   "execution_count": 16,
   "id": "8141a92b",
   "metadata": {
    "scrolled": true
   },
   "outputs": [
    {
     "name": "stdout",
     "output_type": "stream",
     "text": [
      "(5A) + B\n",
      "[[ 60 -30  15]\n",
      " [-20  60  70]]\n"
     ]
    }
   ],
   "source": [
    "print(\"(5A) + B\")\n",
    "A5 = A * 5\n",
    "r5 = A5@B\n",
    "print(r5)"
   ]
  },
  {
   "cell_type": "markdown",
   "id": "502e3146",
   "metadata": {},
   "source": [
    "EJERCICIO TRES"
   ]
  },
  {
   "cell_type": "code",
   "execution_count": 19,
   "id": "54c27a20",
   "metadata": {},
   "outputs": [
    {
     "name": "stdout",
     "output_type": "stream",
     "text": [
      "[[1.2 1.3]\n",
      " [2.2 2.1]\n",
      " [4.5 4.6]]\n",
      "[[ 87.   88.9]\n",
      " [105.6 107.1]]\n",
      "\n",
      "Tienda 1 192.6\n",
      "\n",
      "Tienda 2 196.0\n",
      "\n",
      "Es mejor comprar en la tienda 1\n"
     ]
    }
   ],
   "source": [
    "restaurantes=np.array([[30,15,4],[25,18,8]])\n",
    "tiendas=np.array([[1.2,2.2,4.5],[1.3,2.1,4.6]])\n",
    "print(tiendas.T)\n",
    "costoPorTienda=restaurantes@tiendas.T\n",
    "print(costoPorTienda)\n",
    "print(\"\\nTienda 1\", (costoPorTienda[0,0]+costoPorTienda[1,0]))\n",
    "print(\"\\nTienda 2\", (costoPorTienda[0,1]+costoPorTienda[1,1]))\n",
    "\n",
    "print(\"\\nEs mejor comprar en la tienda 1\")\n"
   ]
  },
  {
   "cell_type": "markdown",
   "id": "9433ed5c",
   "metadata": {},
   "source": [
    "EJERCICIO 4"
   ]
  },
  {
   "cell_type": "code",
   "execution_count": 37,
   "id": "4a54651a",
   "metadata": {},
   "outputs": [
    {
     "name": "stdout",
     "output_type": "stream",
     "text": [
      "[[1.5  1.75]\n",
      " [1.   1.5 ]\n",
      " [2.   1.  ]]\n",
      "Costo si se transporta en Camión: 1112.5\n",
      "Costo si se transporta en Tren: 1081.25\n",
      "\n",
      " La mejor opción es transportarlo en Tren\n"
     ]
    }
   ],
   "source": [
    "almacen= np.array([[200,150,100],[75,100,125]])\n",
    "costoV = np.array([[1.50,1.00,2.00],[1.75,1.50,1.00]])\n",
    "matriz=costoV.T\n",
    "print(matriz)\n",
    "\n",
    "costoFin = almacen@matriz\n",
    "\n",
    "print(\"Costo si se transporta en Camión:\", (costoFin[0,0]+costoFin[1,0]))\n",
    "print(\"Costo si se transporta en Tren:\", (costoFin[0,1]+costoFin[1,1])) \n",
    "\n",
    "print(\"\\n La mejor opción es transportarlo en Tren\")\n"
   ]
  },
  {
   "cell_type": "markdown",
   "id": "39f09062",
   "metadata": {},
   "source": [
    "Ejercio 5"
   ]
  },
  {
   "cell_type": "code",
   "execution_count": 46,
   "id": "a78938f5",
   "metadata": {},
   "outputs": [
    {
     "name": "stdout",
     "output_type": "stream",
     "text": [
      "3x + 2y = 6 \n",
      "6x + 4y = −9\n",
      "\n",
      "[[-0.15151515 -0.34848485  0.78787879]\n",
      " [ 0.42424242  0.57575758 -0.60606061]]\n",
      "[ 7.50000145e+08 -1.50000000e+09]\n",
      "-----Comprobacion-----\n",
      "[6.         9.00000001]\n",
      "\n",
      "x + y = 3\n",
      "x − 4y = 1\n",
      "\n",
      "[2.6 0.4]\n",
      "-----Comprobacion-----\n",
      "[3. 1.]\n",
      "\n",
      "2x − y + 2z = 3\n",
      "2x + 3y − z = 0\n",
      "x + 2y + 2z = −12\n",
      "\n",
      "[ 3.65217391 -3.7826087  -4.04347826]\n",
      "-----Comprobacion-----\n",
      "[ 3.00000000e+00  1.77635684e-15 -1.20000000e+01]\n"
     ]
    }
   ],
   "source": [
    "ps = np.linalg.pinv(matriz)\n",
    "\n",
    "print(\"3x + 2y = 6 \\n6x + 4y = −9\\n\")\n",
    "\n",
    "print(ps)\n",
    "A = np.array([[0.09230769 , 0.04615385], [0.06153846 , 0.03076923]])\n",
    "B = np.array([6,9])\n",
    "\n",
    "resul = np.linalg.solve(A,B)\n",
    "print(resul)\n",
    "print(\"-----Comprobacion-----\")\n",
    "print(A@resul)\n",
    "\n",
    "\n",
    "\n",
    "print(\"\\nx + y = 3\\nx − 4y = 1\\n\")\n",
    "A = np.array([[1,1],[1,-4]])\n",
    "B = np.array([3,1])\n",
    "\n",
    "resul=np.linalg.solve(A,B)\n",
    "print(resul)\n",
    "print(\"-----Comprobacion-----\")\n",
    "print(A@resul)\n",
    "\n",
    "\n",
    "print(\"\\n2x − y + 2z = 3\\n2x + 3y − z = 0\\nx + 2y + 2z = −12\\n\")\n",
    "\n",
    "A = np.array([[2,-1,2],[2,3,-1],[1,2,2]])\n",
    "B = np.array([3,0,-12])\n",
    "\n",
    "resul=np.linalg.solve(A,B)\n",
    "print(resul)\n",
    "print(\"-----Comprobacion-----\")\n",
    "print(A@resul)"
   ]
  }
 ],
 "metadata": {
  "kernelspec": {
   "display_name": "Python 3 (ipykernel)",
   "language": "python",
   "name": "python3"
  },
  "language_info": {
   "codemirror_mode": {
    "name": "ipython",
    "version": 3
   },
   "file_extension": ".py",
   "mimetype": "text/x-python",
   "name": "python",
   "nbconvert_exporter": "python",
   "pygments_lexer": "ipython3",
   "version": "3.9.13"
  }
 },
 "nbformat": 4,
 "nbformat_minor": 5
}
