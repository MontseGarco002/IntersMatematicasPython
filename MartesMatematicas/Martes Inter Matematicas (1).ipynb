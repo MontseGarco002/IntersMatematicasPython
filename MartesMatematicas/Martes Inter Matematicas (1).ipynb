{
 "cells": [
  {
   "cell_type": "markdown",
   "id": "c46b87be",
   "metadata": {},
   "source": [
    "# Numpy"
   ]
  },
  {
   "cell_type": "code",
   "execution_count": 2,
   "id": "44bf18a6",
   "metadata": {},
   "outputs": [],
   "source": [
    "import numpy as np"
   ]
  },
  {
   "cell_type": "code",
   "execution_count": 5,
   "id": "766dec88",
   "metadata": {
    "scrolled": true
   },
   "outputs": [
    {
     "name": "stdout",
     "output_type": "stream",
     "text": [
      "[0 1 2 3 4 5]\n"
     ]
    }
   ],
   "source": [
    "vector = np.array([0,1,2,3,4,5])\n",
    "print(vector)"
   ]
  },
  {
   "cell_type": "code",
   "execution_count": 10,
   "id": "b2f4fb9d",
   "metadata": {},
   "outputs": [
    {
     "name": "stdout",
     "output_type": "stream",
     "text": [
      "[1. 2. 3. 4. 5.]\n",
      "[0.0e+00 0.0e+00 6.0e-08 0.0e+00 1.2e-07 0.0e+00 1.8e-07 0.0e+00 2.4e-07\n",
      " 0.0e+00 3.0e-07 0.0e+00]\n",
      "[1. 2. 3. 4. 5.]\n"
     ]
    }
   ],
   "source": [
    "vectorDos = np.array([1,2,3,4,5],dtype = np.float32)\n",
    "print(vectorDos)\n",
    "\n",
    "vector.dtype = np.float16 #Transformamos a flotante EN NOTACIÓN CIENTIFICA\n",
    "print(vector)\n",
    "\n",
    "vectorTres = np.array([1,2,3,4,5])\n",
    "vectorTres = vectorTres.astype(np.float32) #NÚMERPS FLOTANTES SIMPLES\n",
    "print(vectorTres)"
   ]
  },
  {
   "cell_type": "code",
   "execution_count": 11,
   "id": "1569df1c",
   "metadata": {},
   "outputs": [
    {
     "name": "stdout",
     "output_type": "stream",
     "text": [
      "4.0\n"
     ]
    }
   ],
   "source": [
    "print(vectorTres[3])"
   ]
  },
  {
   "cell_type": "code",
   "execution_count": 13,
   "id": "ba3a198c",
   "metadata": {},
   "outputs": [
    {
     "name": "stdout",
     "output_type": "stream",
     "text": [
      "[0 1 2 3 4 5 6 7]\n"
     ]
    }
   ],
   "source": [
    "vectorCuatro = np.array([0,1,2,3,4,5,6,7,8,9,10,11,12,13,14,15])\n",
    "print(vectorCuatro[0:8])"
   ]
  },
  {
   "cell_type": "code",
   "execution_count": 18,
   "id": "c66ee2cd",
   "metadata": {},
   "outputs": [
    {
     "name": "stdout",
     "output_type": "stream",
     "text": [
      "[ 0  0 -1]\n",
      "[0 2 5]\n",
      "[ 0 -1 -6]\n",
      "[0. 1. 2.]\n",
      "[0 2 4]\n",
      "[False  True  True]\n",
      "[1 1 4]\n"
     ]
    }
   ],
   "source": [
    "a = np.array([0,1,2])\n",
    "b = np.array([0,-1,-3])\n",
    "c = np.array([1,1,1])\n",
    "print(a+b)\n",
    "print(a-b)\n",
    "print(a*b)\n",
    "#print(a/b) NO SE PUEDE DIVIDIR ENTRE 0\n",
    "print(a/c)\n",
    "print(2*a)\n",
    "print(a>=1)\n",
    "print(a**a) #portencia \n"
   ]
  },
  {
   "cell_type": "markdown",
   "id": "58bcd6bb",
   "metadata": {},
   "source": [
    "Rutinas linspace,arange para generar numeros entre un rango entre dos numeros dados. a<=x<=b -->linspace a<=x<b -->arange\n"
   ]
  },
  {
   "cell_type": "code",
   "execution_count": 20,
   "id": "0156021e",
   "metadata": {
    "scrolled": true
   },
   "outputs": [
    {
     "name": "stdout",
     "output_type": "stream",
     "text": [
      "[2.         2.33333333 2.66666667 3.        ]\n",
      "[ 0.          1.07142857  2.14285714  3.21428571  4.28571429  5.35714286\n",
      "  6.42857143  7.5         8.57142857  9.64285714 10.71428571 11.78571429\n",
      " 12.85714286 13.92857143 15.        ]\n",
      "[ 0  1  2  3  4  5  6  7  8  9 10 11 12 13 14]\n"
     ]
    }
   ],
   "source": [
    "#Se va a dividir en rango entre los lugares disponibles\n",
    "print(np.linspace(2,3,4)) #4 lugares, que esten entre el 2 y 3\n",
    "print(np.linspace(0,15,15)) # del 0 al 15, en 15 lugares. \n",
    "#CUENTA EL PRIMER Y EL ÚLTIMO NÚMERO\n",
    "\n",
    "print(np.arange(0,15,1)) #Del 0 al 15(n-1), de paso a paso \n",
    "#cuenta el primer número \n"
   ]
  },
  {
   "cell_type": "code",
   "execution_count": 29,
   "id": "07feb5ae",
   "metadata": {
    "scrolled": true
   },
   "outputs": [
    {
     "name": "stdout",
     "output_type": "stream",
     "text": [
      "[[1 2 3]\n",
      " [4 5 6]\n",
      " [7 8 9]]\n",
      "(3, 3)\n",
      "(16,)\n",
      "[1 2 3 4 5 6 7 8 9]\n",
      "[[1 2 3]\n",
      " [4 5 6]\n",
      " [7 8 9]]\n",
      "[[ 0  1  2  3]\n",
      " [ 4  5  6  7]\n",
      " [ 8  9 10 11]\n",
      " [12 13 14 15]]\n",
      "[[[34  3]\n",
      "  [67  7]]\n",
      "\n",
      " [[11  2]\n",
      "  [78  3]]\n",
      "\n",
      " [[23 32]\n",
      "  [90  1]]]\n",
      "(3, 2, 2)\n"
     ]
    }
   ],
   "source": [
    "matrix = np.array([[1,2,3],[4,5,6],[7,8,9]])\n",
    "a=np.arange(0,16,1)\n",
    "print(matrix)\n",
    "print(matrix.shape) #----filas, columnas |||\n",
    "print(a.shape)\n",
    "nueva=matrix.reshape(9,) #reshape redimenciona\n",
    "print(nueva)\n",
    "print(matrix)\n",
    "b= a.reshape(4,4)\n",
    "print(b)\n",
    "\n",
    "\n",
    "mt1=[[34,3],[67,7]]\n",
    "mt2=[[11,2],[78,3]]\n",
    "mt3=[[23,32],[90,1]]\n",
    "arr1=np.array([mt1,mt2,mt3])\n",
    "print(arr1)\n",
    "print(arr1.shape)"
   ]
  },
  {
   "cell_type": "code",
   "execution_count": 37,
   "id": "9d34bb74",
   "metadata": {},
   "outputs": [
    {
     "name": "stdout",
     "output_type": "stream",
     "text": [
      "[[1 2 3]\n",
      " [4 5 6]\n",
      " [7 8 9]]\n",
      "(3, 3)\n",
      "(2, 2)\n",
      "[[2 3]\n",
      " [5 6]]\n",
      "\n",
      "\n",
      "\n",
      "\n",
      "8\n"
     ]
    }
   ],
   "source": [
    "m =np.array([[1,2,3],[4,5,6],[7,8,9]])\n",
    "print(m)\n",
    "print(m.shape)\n",
    "c1 = m [:2,1:3]\n",
    "print(c1.shape)\n",
    "print(c1)\n",
    "\n",
    "print(\"\\n\\n\\n\")\n",
    "\n",
    "c2 = m[2:,:]\n",
    "print(c2[0][1]) #fila, columna "
   ]
  },
  {
   "cell_type": "code",
   "execution_count": 39,
   "id": "265a8c45",
   "metadata": {},
   "outputs": [
    {
     "name": "stdout",
     "output_type": "stream",
     "text": [
      "[2. 1.]\n",
      "[3. 5.]\n"
     ]
    }
   ],
   "source": [
    "A = np.array([[2,-1],[1,3]])\n",
    "b = np.array([3,5])\n",
    "c = np.linalg.solve(A,b)\n",
    "print(c)\n",
    "print(A@c) #@Multiplicación de matrices"
   ]
  }
 ],
 "metadata": {
  "kernelspec": {
   "display_name": "Python 3 (ipykernel)",
   "language": "python",
   "name": "python3"
  },
  "language_info": {
   "codemirror_mode": {
    "name": "ipython",
    "version": 3
   },
   "file_extension": ".py",
   "mimetype": "text/x-python",
   "name": "python",
   "nbconvert_exporter": "python",
   "pygments_lexer": "ipython3",
   "version": "3.9.13"
  }
 },
 "nbformat": 4,
 "nbformat_minor": 5
}
