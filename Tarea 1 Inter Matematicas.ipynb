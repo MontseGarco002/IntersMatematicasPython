{
 "cells": [
  {
   "cell_type": "markdown",
   "id": "4ac57cc2",
   "metadata": {},
   "source": [
    "Ejercicios 1"
   ]
  },
  {
   "cell_type": "code",
   "execution_count": 4,
   "id": "c53ea1b4",
   "metadata": {},
   "outputs": [],
   "source": [
    "import math"
   ]
  },
  {
   "cell_type": "code",
   "execution_count": 6,
   "id": "7a9fc814",
   "metadata": {},
   "outputs": [
    {
     "name": "stdout",
     "output_type": "stream",
     "text": [
      "11\n"
     ]
    }
   ],
   "source": [
    "#Ejercicio 1\n",
    "print(math.ceil(math.log(2000,2))) #redonedado a horas"
   ]
  },
  {
   "cell_type": "markdown",
   "id": "14c2fd23",
   "metadata": {},
   "source": [
    "Ejercicio 2"
   ]
  },
  {
   "cell_type": "code",
   "execution_count": 9,
   "id": "5f66830a",
   "metadata": {},
   "outputs": [
    {
     "name": "stdout",
     "output_type": "stream",
     "text": [
      "1.0\n"
     ]
    }
   ],
   "source": [
    "print(math.log(2,2)+math.log(1,3))"
   ]
  },
  {
   "cell_type": "markdown",
   "id": "c68483cd",
   "metadata": {},
   "source": [
    "Ejercicio 3"
   ]
  },
  {
   "cell_type": "code",
   "execution_count": 17,
   "id": "69bbdcae",
   "metadata": {},
   "outputs": [
    {
     "name": "stdout",
     "output_type": "stream",
     "text": [
      "--------------\n",
      "Seno de 90 es 1.0\n",
      "Coseno de 90 es 6.123233995736766e-17\n",
      "--------------\n",
      "Seno de 135 es 0.7071067811865476\n",
      "Coseno de 135 es -0.7071067811865475\n",
      "--------------\n",
      "Seno de 330 es -0.5000000000000004\n",
      "Coseno de 300 es 0.8660254037844384\n",
      "--------------\n",
      "Seno de 750 es 0.49999999999999994\n",
      "Coseno de 750 es 0.8660254037844387\n",
      "--------------\n"
     ]
    }
   ],
   "source": [
    "print(\"--------------\")\n",
    "print(f\"Seno de 90 es {math.sin(math.pi/2)}\")\n",
    "print(f\"Coseno de 90 es {(math.cos(math.pi/2))}\")\n",
    "print(\"--------------\")\n",
    "print(f\"Seno de 135 es {math.sin(math.pi*3/4)}\")\n",
    "print(f\"Coseno de 135 es {(math.cos(math.pi*3/4))}\")\n",
    "print(\"--------------\")\n",
    "print(f\"Seno de 330 es {math.sin(math.pi*11/6)}\")\n",
    "print(f\"Coseno de 300 es {(math.cos(math.pi*11/6))}\")\n",
    "print(\"--------------\")\n",
    "print(f\"Seno de 750 es {math.sin(math.pi/6)}\")\n",
    "print(f\"Coseno de 750 es {(math.cos(math.pi/6))}\")\n",
    "print(\"--------------\")"
   ]
  },
  {
   "cell_type": "markdown",
   "id": "a95c16bd",
   "metadata": {},
   "source": [
    "Ejercicio 4"
   ]
  },
  {
   "cell_type": "code",
   "execution_count": 19,
   "id": "3053576e",
   "metadata": {},
   "outputs": [
    {
     "name": "stdout",
     "output_type": "stream",
     "text": [
      "Si no se repiten las letras son posible 11232000 combinaciones\n",
      "Si se permitiera repetir, serían posibles 17576000.0 combinaciones\n"
     ]
    }
   ],
   "source": [
    "print(f\"Si no se repiten las letras son posible {math.perm(26,3)*math.perm(10,3)} combinaciones\")\n",
    "print(f\"Si se permitiera repetir, serían posibles {math.pow(26,3)*math.pow(10,3)} combinaciones\")"
   ]
  },
  {
   "cell_type": "markdown",
   "id": "b05890ea",
   "metadata": {},
   "source": [
    "Ejercico 5"
   ]
  },
  {
   "cell_type": "code",
   "execution_count": 21,
   "id": "4457198b",
   "metadata": {},
   "outputs": [
    {
     "name": "stdout",
     "output_type": "stream",
     "text": [
      "Hay 10 combinaciones de alumnos\n"
     ]
    }
   ],
   "source": [
    "print(f\"Hay {math.comb(5,3)} combinaciones de alumnos\")"
   ]
  }
 ],
 "metadata": {
  "kernelspec": {
   "display_name": "Python 3 (ipykernel)",
   "language": "python",
   "name": "python3"
  },
  "language_info": {
   "codemirror_mode": {
    "name": "ipython",
    "version": 3
   },
   "file_extension": ".py",
   "mimetype": "text/x-python",
   "name": "python",
   "nbconvert_exporter": "python",
   "pygments_lexer": "ipython3",
   "version": "3.9.13"
  }
 },
 "nbformat": 4,
 "nbformat_minor": 5
}
