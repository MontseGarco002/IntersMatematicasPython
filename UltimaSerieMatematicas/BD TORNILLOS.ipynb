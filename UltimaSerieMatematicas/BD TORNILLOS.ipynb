{
 "cells": [
  {
   "cell_type": "code",
   "execution_count": 23,
   "id": "4671f5ae",
   "metadata": {},
   "outputs": [],
   "source": [
    "import matplotlib.pyplot as plt\n",
    "import numpy as np\n",
    "import statistics as sts"
   ]
  },
  {
   "cell_type": "markdown",
   "id": "0ecd7913",
   "metadata": {},
   "source": [
    "# Se obtuvo la medición de una serie de tornillos que se tienen que embarcar, pero se quiere sacar una estadística descriptiva de las mediciones."
   ]
  },
  {
   "cell_type": "code",
   "execution_count": 24,
   "id": "7822e93a",
   "metadata": {},
   "outputs": [],
   "source": [
    "arg1=np.array([([1.34, 1.2, 1.41, 1.52, 1.49, 1.3, 1.24, 1.29, 1.53, 1.55, 1.37,\n",
    "               1.56, 1.56, 1.39, 1.39, 1.51, 1.59, 1.54, 1.29, 1.44, 1.5, 1.22,\n",
    "               1.32, 1.42, 1.42, 1.6, 1.58, 1.31, 1.45, 1.29, 1.51, 1.4, 1.29,\n",
    "               1.57, 1.24, 1.44, 1.28, 1.52, 1.49, 1.41, 1.32, 1.31, 1.23, 1.25,\n",
    "               1.57, 1.53, 1.35, 1.57, 1.50, 1.49])])"
   ]
  },
  {
   "cell_type": "markdown",
   "id": "3fdcca04",
   "metadata": {},
   "source": [
    "### De los datos de arriba encontrar la siguiente información:"
   ]
  },
  {
   "cell_type": "markdown",
   "id": "378fbd23",
   "metadata": {},
   "source": [
    "### 1. El valor más grande"
   ]
  },
  {
   "cell_type": "code",
   "execution_count": 3,
   "id": "eefd96b9",
   "metadata": {
    "scrolled": true
   },
   "outputs": [
    {
     "name": "stdout",
     "output_type": "stream",
     "text": [
      "El valor más grande es: 1.6\n"
     ]
    }
   ],
   "source": [
    "print(\"El valor más grande es:\",np.max(arg1))"
   ]
  },
  {
   "cell_type": "markdown",
   "id": "0fdfc1e3",
   "metadata": {},
   "source": [
    "### 2. El valor más pequeño"
   ]
  },
  {
   "cell_type": "code",
   "execution_count": 4,
   "id": "daa5d111",
   "metadata": {},
   "outputs": [
    {
     "name": "stdout",
     "output_type": "stream",
     "text": [
      "El valor más pequeño es: 1.2\n"
     ]
    }
   ],
   "source": [
    "print(\"El valor más pequeño es:\",np.min(arg1))"
   ]
  },
  {
   "cell_type": "markdown",
   "id": "2fb43cfd",
   "metadata": {},
   "source": [
    "### 3. Obtuvieron 1.25 o más"
   ]
  },
  {
   "cell_type": "code",
   "execution_count": 5,
   "id": "59cbd86d",
   "metadata": {},
   "outputs": [
    {
     "name": "stdout",
     "output_type": "stream",
     "text": [
      "Cantidad que obtuvieron 125 o mas: 45\n"
     ]
    }
   ],
   "source": [
    "print(\"Cantidad que obtuvieron 125 o mas:\", np.where(arg1 >= 1.25, 1, 0).sum())"
   ]
  },
  {
   "cell_type": "markdown",
   "id": "a334545b",
   "metadata": {},
   "source": [
    "### 4. Obtuvieron 1.32 Ó más "
   ]
  },
  {
   "cell_type": "code",
   "execution_count": 6,
   "id": "24da1dcc",
   "metadata": {},
   "outputs": [
    {
     "name": "stdout",
     "output_type": "stream",
     "text": [
      "Cantidad que obtuvieron 138 o menos: 16\n"
     ]
    }
   ],
   "source": [
    "print(\"Cantidad que obtuvieron 138 o menos:\", np.where(arg1 <= 1.32, 1, 0).sum())"
   ]
  },
  {
   "cell_type": "markdown",
   "id": "1d735214",
   "metadata": {},
   "source": [
    "### 5. Porcentaje de valores (1.39<=x>=1.41, dato2)"
   ]
  },
  {
   "cell_type": "code",
   "execution_count": 7,
   "id": "ffb9a2c0",
   "metadata": {},
   "outputs": [
    {
     "name": "stdout",
     "output_type": "stream",
     "text": [
      "% de pesos de los estudiantes entre 1.39<=x>=1.41:  10.0 %\n"
     ]
    }
   ],
   "source": [
    "porcentaje=np.where((arg1>=1.39) & (arg1<=1.41),1,0).sum()/50\n",
    "print(\"% de pesos de los estudiantes entre 1.39<=x>=1.41: \",porcentaje*100,\"%\")\n",
    "\n"
   ]
  },
  {
   "cell_type": "markdown",
   "id": "a832890f",
   "metadata": {},
   "source": [
    "### 6. Frecuencias absolutas simples"
   ]
  },
  {
   "cell_type": "code",
   "execution_count": 8,
   "id": "1ad7a553",
   "metadata": {},
   "outputs": [
    {
     "name": "stdout",
     "output_type": "stream",
     "text": [
      "La frecuencia absoluta simple es:  [1 1 1 2 1 1 4 1 2 2 1 1 1 2 1 2 2 2 1 3 2 2 2 2 1 1 2 3 1 1 1]\n"
     ]
    }
   ],
   "source": [
    "variables,repetidas = np.unique(arg1,return_counts = True)\n",
    "\n",
    "frecuencia_absoluta_simple=repetidas\n",
    "\n",
    "print(\"La frecuencia absoluta simple es: \", frecuencia_absoluta_simple)"
   ]
  },
  {
   "cell_type": "markdown",
   "id": "c40bccea",
   "metadata": {},
   "source": [
    "### 7. Frecuencias absolutas acumuladas"
   ]
  },
  {
   "cell_type": "code",
   "execution_count": 9,
   "id": "4a095630",
   "metadata": {},
   "outputs": [
    {
     "name": "stdout",
     "output_type": "stream",
     "text": [
      "La frecuencia absoluta acumulada es:  [ 1  2  3  5  6  7 11 12 14 16 17 18 19 21 22 24 26 28 29 32 34 36 38 40\n",
      " 41 42 44 47 48 49 50]\n"
     ]
    }
   ],
   "source": [
    "frecuencia_absoluta_acumulada=np.cumsum(frecuencia_absoluta_simple)\n",
    "\n",
    "print(\"La frecuencia absoluta acumulada es: \",frecuencia_absoluta_acumulada)"
   ]
  },
  {
   "cell_type": "markdown",
   "id": "f40b9d1f",
   "metadata": {},
   "source": [
    "### 8. Frecuencias relativas simples"
   ]
  },
  {
   "cell_type": "code",
   "execution_count": 10,
   "id": "8a1c1bce",
   "metadata": {},
   "outputs": [
    {
     "name": "stdout",
     "output_type": "stream",
     "text": [
      "La frecuencia relativa simple es:  [2. 2. 2. 4. 2. 2. 8. 2. 4. 4. 2. 2. 2. 4. 2. 4. 4. 4. 2. 6. 4. 4. 4. 4.\n",
      " 2. 2. 4. 6. 2. 2. 2.]\n"
     ]
    }
   ],
   "source": [
    "frecuencia_relativa_simple = np.round((((frecuencia_absoluta_simple)/50)*100),2)\n",
    "\n",
    "print(\"La frecuencia relativa simple es: \",frecuencia_relativa_simple)"
   ]
  },
  {
   "cell_type": "markdown",
   "id": "89f89189",
   "metadata": {},
   "source": [
    "### 9. Frecuencias relativas acumuladas"
   ]
  },
  {
   "cell_type": "code",
   "execution_count": 11,
   "id": "2d65e740",
   "metadata": {
    "scrolled": true
   },
   "outputs": [
    {
     "name": "stdout",
     "output_type": "stream",
     "text": [
      "La frecuencia relativa acumulada es:  [  2.   4.   6.  10.  12.  14.  22.  24.  28.  32.  34.  36.  38.  42.\n",
      "  44.  48.  52.  56.  58.  64.  68.  72.  76.  80.  82.  84.  88.  94.\n",
      "  96.  98. 100.]\n"
     ]
    }
   ],
   "source": [
    "frecuencia_relativa_acumulada=np.cumsum(frecuencia_relativa_simple)\n",
    "\n",
    "print(\"La frecuencia relativa acumulada es: \",frecuencia_relativa_acumulada)"
   ]
  },
  {
   "cell_type": "markdown",
   "id": "6c0a5791",
   "metadata": {},
   "source": [
    "### 10. Media aritmética valores agrupados"
   ]
  },
  {
   "cell_type": "code",
   "execution_count": 12,
   "id": "52fa04fd",
   "metadata": {},
   "outputs": [
    {
     "name": "stdout",
     "output_type": "stream",
     "text": [
      "La media agrupada es: [1.2  1.22 1.23 1.24 1.25 1.28 1.29 1.3  1.31 1.32 1.34 1.35 1.37 1.39\n",
      " 1.4  1.41 1.42 1.44 1.45 1.49 1.5  1.51 1.52 1.53 1.54 1.55 1.56 1.57\n",
      " 1.58 1.59 1.6 ]\n"
     ]
    }
   ],
   "source": [
    "media_agrupada = np.array([np.mean(arg1[arg1 == i]) for i in np.unique(arg1)])\n",
    "print(\"La media agrupada es:\", media_agrupada)"
   ]
  },
  {
   "cell_type": "markdown",
   "id": "cf2281e0",
   "metadata": {},
   "source": [
    "### 11. Media aritmética de valores no agrupados"
   ]
  },
  {
   "cell_type": "code",
   "execution_count": 13,
   "id": "3efa7c36",
   "metadata": {
    "scrolled": true
   },
   "outputs": [
    {
     "name": "stdout",
     "output_type": "stream",
     "text": [
      "La media Aritmetica no agrupada es: 1.4178\n"
     ]
    }
   ],
   "source": [
    "media_no_agrupada = np.mean(arg1)\n",
    "print(\"La media Aritmetica no agrupada es:\" , media_no_agrupada)"
   ]
  },
  {
   "cell_type": "markdown",
   "id": "2842244a",
   "metadata": {},
   "source": [
    "### 12. Media Geométrica"
   ]
  },
  {
   "cell_type": "code",
   "execution_count": 14,
   "id": "0a4b1afb",
   "metadata": {},
   "outputs": [
    {
     "name": "stdout",
     "output_type": "stream",
     "text": [
      "La media geometrica agrupda es igua a :  1.4128346503940055\n",
      "La media geometrica no agrupda es igua a :  1.4128346503940055\n"
     ]
    }
   ],
   "source": [
    "#Media Geométrica datos agrupados\n",
    "media_g_agrupados=np.power(np.product(variables**repetidas),1/50)\n",
    "print(\"La media geometrica agrupda es igua a : \", media_g_agrupados)\n",
    "\n",
    "#Media Geométrica de datos no agrupados\n",
    "media_g_noagrupados=np.power(np.product(arg1),1/50)\n",
    "print(\"La media geometrica no agrupda es igua a : \", media_g_noagrupados)\n"
   ]
  },
  {
   "cell_type": "markdown",
   "id": "7e49e881",
   "metadata": {},
   "source": [
    "### 13. Media Armónica H"
   ]
  },
  {
   "cell_type": "code",
   "execution_count": 16,
   "id": "3e9900cb",
   "metadata": {},
   "outputs": [
    {
     "ename": "TypeError",
     "evalue": "unsupported type",
     "output_type": "error",
     "traceback": [
      "\u001b[1;31m---------------------------------------------------------------------------\u001b[0m",
      "\u001b[1;31mTypeError\u001b[0m                                 Traceback (most recent call last)",
      "\u001b[1;32m~\\AppData\\Local\\Temp\\ipykernel_8528\\1017722949.py\u001b[0m in \u001b[0;36m<module>\u001b[1;34m\u001b[0m\n\u001b[0;32m      1\u001b[0m \u001b[1;31m#Media armónica H\u001b[0m\u001b[1;33m\u001b[0m\u001b[1;33m\u001b[0m\u001b[0m\n\u001b[1;32m----> 2\u001b[1;33m \u001b[0mprint\u001b[0m\u001b[1;33m(\u001b[0m\u001b[0msts\u001b[0m\u001b[1;33m.\u001b[0m\u001b[0mharmonic_mean\u001b[0m\u001b[1;33m(\u001b[0m\u001b[0marg1\u001b[0m\u001b[1;33m)\u001b[0m\u001b[1;33m)\u001b[0m\u001b[1;33m\u001b[0m\u001b[1;33m\u001b[0m\u001b[0m\n\u001b[0m",
      "\u001b[1;32mC:\\ProgramData\\Anaconda3\\lib\\statistics.py\u001b[0m in \u001b[0;36mharmonic_mean\u001b[1;34m(data)\u001b[0m\n\u001b[0;32m    402\u001b[0m             \u001b[1;32mreturn\u001b[0m \u001b[0mx\u001b[0m\u001b[1;33m\u001b[0m\u001b[1;33m\u001b[0m\u001b[0m\n\u001b[0;32m    403\u001b[0m         \u001b[1;32melse\u001b[0m\u001b[1;33m:\u001b[0m\u001b[1;33m\u001b[0m\u001b[1;33m\u001b[0m\u001b[0m\n\u001b[1;32m--> 404\u001b[1;33m             \u001b[1;32mraise\u001b[0m \u001b[0mTypeError\u001b[0m\u001b[1;33m(\u001b[0m\u001b[1;34m'unsupported type'\u001b[0m\u001b[1;33m)\u001b[0m\u001b[1;33m\u001b[0m\u001b[1;33m\u001b[0m\u001b[0m\n\u001b[0m\u001b[0;32m    405\u001b[0m     \u001b[1;32mtry\u001b[0m\u001b[1;33m:\u001b[0m\u001b[1;33m\u001b[0m\u001b[1;33m\u001b[0m\u001b[0m\n\u001b[0;32m    406\u001b[0m         \u001b[0mT\u001b[0m\u001b[1;33m,\u001b[0m \u001b[0mtotal\u001b[0m\u001b[1;33m,\u001b[0m \u001b[0mcount\u001b[0m \u001b[1;33m=\u001b[0m \u001b[0m_sum\u001b[0m\u001b[1;33m(\u001b[0m\u001b[1;36m1\u001b[0m \u001b[1;33m/\u001b[0m \u001b[0mx\u001b[0m \u001b[1;32mfor\u001b[0m \u001b[0mx\u001b[0m \u001b[1;32min\u001b[0m \u001b[0m_fail_neg\u001b[0m\u001b[1;33m(\u001b[0m\u001b[0mdata\u001b[0m\u001b[1;33m,\u001b[0m \u001b[0merrmsg\u001b[0m\u001b[1;33m)\u001b[0m\u001b[1;33m)\u001b[0m\u001b[1;33m\u001b[0m\u001b[1;33m\u001b[0m\u001b[0m\n",
      "\u001b[1;31mTypeError\u001b[0m: unsupported type"
     ]
    }
   ],
   "source": [
    "#Media armónica H\n",
    "print(sts.harmonic_mean(arg1))"
   ]
  },
  {
   "cell_type": "markdown",
   "id": "6017af82",
   "metadata": {},
   "source": [
    "### 14. Mediana"
   ]
  },
  {
   "cell_type": "code",
   "execution_count": 17,
   "id": "306e5e88",
   "metadata": {},
   "outputs": [
    {
     "name": "stdout",
     "output_type": "stream",
     "text": [
      "Mediana 1.42\n"
     ]
    }
   ],
   "source": [
    "#Mediana\n",
    "print(\"Mediana\", np.median(arg1))"
   ]
  },
  {
   "cell_type": "markdown",
   "id": "c5665bea",
   "metadata": {},
   "source": [
    "### 15. Moda "
   ]
  },
  {
   "cell_type": "code",
   "execution_count": 18,
   "id": "4b2b4e24",
   "metadata": {},
   "outputs": [
    {
     "ename": "TypeError",
     "evalue": "unhashable type: 'numpy.ndarray'",
     "output_type": "error",
     "traceback": [
      "\u001b[1;31m---------------------------------------------------------------------------\u001b[0m",
      "\u001b[1;31mTypeError\u001b[0m                                 Traceback (most recent call last)",
      "\u001b[1;32m~\\AppData\\Local\\Temp\\ipykernel_8528\\1504447449.py\u001b[0m in \u001b[0;36m<module>\u001b[1;34m\u001b[0m\n\u001b[0;32m      1\u001b[0m \u001b[1;31m#Moda\u001b[0m\u001b[1;33m\u001b[0m\u001b[1;33m\u001b[0m\u001b[0m\n\u001b[1;32m----> 2\u001b[1;33m \u001b[0mprint\u001b[0m\u001b[1;33m(\u001b[0m\u001b[1;34m\"Moda\"\u001b[0m\u001b[1;33m,\u001b[0m\u001b[0msts\u001b[0m\u001b[1;33m.\u001b[0m\u001b[0mmode\u001b[0m\u001b[1;33m(\u001b[0m\u001b[0marg1\u001b[0m\u001b[1;33m)\u001b[0m\u001b[1;33m)\u001b[0m\u001b[1;33m\u001b[0m\u001b[1;33m\u001b[0m\u001b[0m\n\u001b[0m",
      "\u001b[1;32mC:\\ProgramData\\Anaconda3\\lib\\statistics.py\u001b[0m in \u001b[0;36mmode\u001b[1;34m(data)\u001b[0m\n\u001b[0;32m    555\u001b[0m \u001b[1;33m\u001b[0m\u001b[0m\n\u001b[0;32m    556\u001b[0m     \"\"\"\n\u001b[1;32m--> 557\u001b[1;33m     \u001b[0mpairs\u001b[0m \u001b[1;33m=\u001b[0m \u001b[0mCounter\u001b[0m\u001b[1;33m(\u001b[0m\u001b[0miter\u001b[0m\u001b[1;33m(\u001b[0m\u001b[0mdata\u001b[0m\u001b[1;33m)\u001b[0m\u001b[1;33m)\u001b[0m\u001b[1;33m.\u001b[0m\u001b[0mmost_common\u001b[0m\u001b[1;33m(\u001b[0m\u001b[1;36m1\u001b[0m\u001b[1;33m)\u001b[0m\u001b[1;33m\u001b[0m\u001b[1;33m\u001b[0m\u001b[0m\n\u001b[0m\u001b[0;32m    558\u001b[0m     \u001b[1;32mtry\u001b[0m\u001b[1;33m:\u001b[0m\u001b[1;33m\u001b[0m\u001b[1;33m\u001b[0m\u001b[0m\n\u001b[0;32m    559\u001b[0m         \u001b[1;32mreturn\u001b[0m \u001b[0mpairs\u001b[0m\u001b[1;33m[\u001b[0m\u001b[1;36m0\u001b[0m\u001b[1;33m]\u001b[0m\u001b[1;33m[\u001b[0m\u001b[1;36m0\u001b[0m\u001b[1;33m]\u001b[0m\u001b[1;33m\u001b[0m\u001b[1;33m\u001b[0m\u001b[0m\n",
      "\u001b[1;32mC:\\ProgramData\\Anaconda3\\lib\\collections\\__init__.py\u001b[0m in \u001b[0;36m__init__\u001b[1;34m(self, iterable, **kwds)\u001b[0m\n\u001b[0;32m    591\u001b[0m         '''\n\u001b[0;32m    592\u001b[0m         \u001b[0msuper\u001b[0m\u001b[1;33m(\u001b[0m\u001b[1;33m)\u001b[0m\u001b[1;33m.\u001b[0m\u001b[0m__init__\u001b[0m\u001b[1;33m(\u001b[0m\u001b[1;33m)\u001b[0m\u001b[1;33m\u001b[0m\u001b[1;33m\u001b[0m\u001b[0m\n\u001b[1;32m--> 593\u001b[1;33m         \u001b[0mself\u001b[0m\u001b[1;33m.\u001b[0m\u001b[0mupdate\u001b[0m\u001b[1;33m(\u001b[0m\u001b[0miterable\u001b[0m\u001b[1;33m,\u001b[0m \u001b[1;33m**\u001b[0m\u001b[0mkwds\u001b[0m\u001b[1;33m)\u001b[0m\u001b[1;33m\u001b[0m\u001b[1;33m\u001b[0m\u001b[0m\n\u001b[0m\u001b[0;32m    594\u001b[0m \u001b[1;33m\u001b[0m\u001b[0m\n\u001b[0;32m    595\u001b[0m     \u001b[1;32mdef\u001b[0m \u001b[0m__missing__\u001b[0m\u001b[1;33m(\u001b[0m\u001b[0mself\u001b[0m\u001b[1;33m,\u001b[0m \u001b[0mkey\u001b[0m\u001b[1;33m)\u001b[0m\u001b[1;33m:\u001b[0m\u001b[1;33m\u001b[0m\u001b[1;33m\u001b[0m\u001b[0m\n",
      "\u001b[1;32mC:\\ProgramData\\Anaconda3\\lib\\collections\\__init__.py\u001b[0m in \u001b[0;36mupdate\u001b[1;34m(self, iterable, **kwds)\u001b[0m\n\u001b[0;32m    677\u001b[0m                     \u001b[0msuper\u001b[0m\u001b[1;33m(\u001b[0m\u001b[1;33m)\u001b[0m\u001b[1;33m.\u001b[0m\u001b[0mupdate\u001b[0m\u001b[1;33m(\u001b[0m\u001b[0miterable\u001b[0m\u001b[1;33m)\u001b[0m\u001b[1;33m\u001b[0m\u001b[1;33m\u001b[0m\u001b[0m\n\u001b[0;32m    678\u001b[0m             \u001b[1;32melse\u001b[0m\u001b[1;33m:\u001b[0m\u001b[1;33m\u001b[0m\u001b[1;33m\u001b[0m\u001b[0m\n\u001b[1;32m--> 679\u001b[1;33m                 \u001b[0m_count_elements\u001b[0m\u001b[1;33m(\u001b[0m\u001b[0mself\u001b[0m\u001b[1;33m,\u001b[0m \u001b[0miterable\u001b[0m\u001b[1;33m)\u001b[0m\u001b[1;33m\u001b[0m\u001b[1;33m\u001b[0m\u001b[0m\n\u001b[0m\u001b[0;32m    680\u001b[0m         \u001b[1;32mif\u001b[0m \u001b[0mkwds\u001b[0m\u001b[1;33m:\u001b[0m\u001b[1;33m\u001b[0m\u001b[1;33m\u001b[0m\u001b[0m\n\u001b[0;32m    681\u001b[0m             \u001b[0mself\u001b[0m\u001b[1;33m.\u001b[0m\u001b[0mupdate\u001b[0m\u001b[1;33m(\u001b[0m\u001b[0mkwds\u001b[0m\u001b[1;33m)\u001b[0m\u001b[1;33m\u001b[0m\u001b[1;33m\u001b[0m\u001b[0m\n",
      "\u001b[1;31mTypeError\u001b[0m: unhashable type: 'numpy.ndarray'"
     ]
    }
   ],
   "source": [
    "#Moda\n",
    "print(\"Moda\",sts.mode(arg1))"
   ]
  },
  {
   "cell_type": "markdown",
   "id": "9f16141e",
   "metadata": {},
   "source": [
    "### 16. Multiples modas "
   ]
  },
  {
   "cell_type": "code",
   "execution_count": 20,
   "id": "c1d94f60",
   "metadata": {},
   "outputs": [
    {
     "ename": "TypeError",
     "evalue": "unhashable type: 'numpy.ndarray'",
     "output_type": "error",
     "traceback": [
      "\u001b[1;31m---------------------------------------------------------------------------\u001b[0m",
      "\u001b[1;31mTypeError\u001b[0m                                 Traceback (most recent call last)",
      "\u001b[1;32m~\\AppData\\Local\\Temp\\ipykernel_8528\\1643892416.py\u001b[0m in \u001b[0;36m<module>\u001b[1;34m\u001b[0m\n\u001b[0;32m      1\u001b[0m \u001b[1;31m#Multiples modas (distribución bimodal)\u001b[0m\u001b[1;33m\u001b[0m\u001b[1;33m\u001b[0m\u001b[0m\n\u001b[1;32m----> 2\u001b[1;33m \u001b[0mprint\u001b[0m\u001b[1;33m(\u001b[0m\u001b[0msts\u001b[0m\u001b[1;33m.\u001b[0m\u001b[0mmultimode\u001b[0m\u001b[1;33m(\u001b[0m\u001b[0marg1\u001b[0m\u001b[1;33m)\u001b[0m\u001b[1;33m)\u001b[0m\u001b[1;33m\u001b[0m\u001b[1;33m\u001b[0m\u001b[0m\n\u001b[0m",
      "\u001b[1;32mC:\\ProgramData\\Anaconda3\\lib\\statistics.py\u001b[0m in \u001b[0;36mmultimode\u001b[1;34m(data)\u001b[0m\n\u001b[0;32m    575\u001b[0m     \u001b[1;33m[\u001b[0m\u001b[1;33m]\u001b[0m\u001b[1;33m\u001b[0m\u001b[1;33m\u001b[0m\u001b[0m\n\u001b[0;32m    576\u001b[0m     \"\"\"\n\u001b[1;32m--> 577\u001b[1;33m     \u001b[0mcounts\u001b[0m \u001b[1;33m=\u001b[0m \u001b[0mCounter\u001b[0m\u001b[1;33m(\u001b[0m\u001b[0miter\u001b[0m\u001b[1;33m(\u001b[0m\u001b[0mdata\u001b[0m\u001b[1;33m)\u001b[0m\u001b[1;33m)\u001b[0m\u001b[1;33m.\u001b[0m\u001b[0mmost_common\u001b[0m\u001b[1;33m(\u001b[0m\u001b[1;33m)\u001b[0m\u001b[1;33m\u001b[0m\u001b[1;33m\u001b[0m\u001b[0m\n\u001b[0m\u001b[0;32m    578\u001b[0m     \u001b[0mmaxcount\u001b[0m\u001b[1;33m,\u001b[0m \u001b[0mmode_items\u001b[0m \u001b[1;33m=\u001b[0m \u001b[0mnext\u001b[0m\u001b[1;33m(\u001b[0m\u001b[0mgroupby\u001b[0m\u001b[1;33m(\u001b[0m\u001b[0mcounts\u001b[0m\u001b[1;33m,\u001b[0m \u001b[0mkey\u001b[0m\u001b[1;33m=\u001b[0m\u001b[0mitemgetter\u001b[0m\u001b[1;33m(\u001b[0m\u001b[1;36m1\u001b[0m\u001b[1;33m)\u001b[0m\u001b[1;33m)\u001b[0m\u001b[1;33m,\u001b[0m \u001b[1;33m(\u001b[0m\u001b[1;36m0\u001b[0m\u001b[1;33m,\u001b[0m \u001b[1;33m[\u001b[0m\u001b[1;33m]\u001b[0m\u001b[1;33m)\u001b[0m\u001b[1;33m)\u001b[0m\u001b[1;33m\u001b[0m\u001b[1;33m\u001b[0m\u001b[0m\n\u001b[0;32m    579\u001b[0m     \u001b[1;32mreturn\u001b[0m \u001b[0mlist\u001b[0m\u001b[1;33m(\u001b[0m\u001b[0mmap\u001b[0m\u001b[1;33m(\u001b[0m\u001b[0mitemgetter\u001b[0m\u001b[1;33m(\u001b[0m\u001b[1;36m0\u001b[0m\u001b[1;33m)\u001b[0m\u001b[1;33m,\u001b[0m \u001b[0mmode_items\u001b[0m\u001b[1;33m)\u001b[0m\u001b[1;33m)\u001b[0m\u001b[1;33m\u001b[0m\u001b[1;33m\u001b[0m\u001b[0m\n",
      "\u001b[1;32mC:\\ProgramData\\Anaconda3\\lib\\collections\\__init__.py\u001b[0m in \u001b[0;36m__init__\u001b[1;34m(self, iterable, **kwds)\u001b[0m\n\u001b[0;32m    591\u001b[0m         '''\n\u001b[0;32m    592\u001b[0m         \u001b[0msuper\u001b[0m\u001b[1;33m(\u001b[0m\u001b[1;33m)\u001b[0m\u001b[1;33m.\u001b[0m\u001b[0m__init__\u001b[0m\u001b[1;33m(\u001b[0m\u001b[1;33m)\u001b[0m\u001b[1;33m\u001b[0m\u001b[1;33m\u001b[0m\u001b[0m\n\u001b[1;32m--> 593\u001b[1;33m         \u001b[0mself\u001b[0m\u001b[1;33m.\u001b[0m\u001b[0mupdate\u001b[0m\u001b[1;33m(\u001b[0m\u001b[0miterable\u001b[0m\u001b[1;33m,\u001b[0m \u001b[1;33m**\u001b[0m\u001b[0mkwds\u001b[0m\u001b[1;33m)\u001b[0m\u001b[1;33m\u001b[0m\u001b[1;33m\u001b[0m\u001b[0m\n\u001b[0m\u001b[0;32m    594\u001b[0m \u001b[1;33m\u001b[0m\u001b[0m\n\u001b[0;32m    595\u001b[0m     \u001b[1;32mdef\u001b[0m \u001b[0m__missing__\u001b[0m\u001b[1;33m(\u001b[0m\u001b[0mself\u001b[0m\u001b[1;33m,\u001b[0m \u001b[0mkey\u001b[0m\u001b[1;33m)\u001b[0m\u001b[1;33m:\u001b[0m\u001b[1;33m\u001b[0m\u001b[1;33m\u001b[0m\u001b[0m\n",
      "\u001b[1;32mC:\\ProgramData\\Anaconda3\\lib\\collections\\__init__.py\u001b[0m in \u001b[0;36mupdate\u001b[1;34m(self, iterable, **kwds)\u001b[0m\n\u001b[0;32m    677\u001b[0m                     \u001b[0msuper\u001b[0m\u001b[1;33m(\u001b[0m\u001b[1;33m)\u001b[0m\u001b[1;33m.\u001b[0m\u001b[0mupdate\u001b[0m\u001b[1;33m(\u001b[0m\u001b[0miterable\u001b[0m\u001b[1;33m)\u001b[0m\u001b[1;33m\u001b[0m\u001b[1;33m\u001b[0m\u001b[0m\n\u001b[0;32m    678\u001b[0m             \u001b[1;32melse\u001b[0m\u001b[1;33m:\u001b[0m\u001b[1;33m\u001b[0m\u001b[1;33m\u001b[0m\u001b[0m\n\u001b[1;32m--> 679\u001b[1;33m                 \u001b[0m_count_elements\u001b[0m\u001b[1;33m(\u001b[0m\u001b[0mself\u001b[0m\u001b[1;33m,\u001b[0m \u001b[0miterable\u001b[0m\u001b[1;33m)\u001b[0m\u001b[1;33m\u001b[0m\u001b[1;33m\u001b[0m\u001b[0m\n\u001b[0m\u001b[0;32m    680\u001b[0m         \u001b[1;32mif\u001b[0m \u001b[0mkwds\u001b[0m\u001b[1;33m:\u001b[0m\u001b[1;33m\u001b[0m\u001b[1;33m\u001b[0m\u001b[0m\n\u001b[0;32m    681\u001b[0m             \u001b[0mself\u001b[0m\u001b[1;33m.\u001b[0m\u001b[0mupdate\u001b[0m\u001b[1;33m(\u001b[0m\u001b[0mkwds\u001b[0m\u001b[1;33m)\u001b[0m\u001b[1;33m\u001b[0m\u001b[1;33m\u001b[0m\u001b[0m\n",
      "\u001b[1;31mTypeError\u001b[0m: unhashable type: 'numpy.ndarray'"
     ]
    }
   ],
   "source": [
    "#Multiples modas (distribución bimodal)\n",
    "print(sts.multimode(arg1))\n"
   ]
  },
  {
   "cell_type": "markdown",
   "id": "30ee8897",
   "metadata": {},
   "source": [
    "### 17. Cuartiles"
   ]
  },
  {
   "cell_type": "code",
   "execution_count": 21,
   "id": "fee8f3f4",
   "metadata": {},
   "outputs": [
    {
     "ename": "StatisticsError",
     "evalue": "must have at least two data points",
     "output_type": "error",
     "traceback": [
      "\u001b[1;31m---------------------------------------------------------------------------\u001b[0m",
      "\u001b[1;31mStatisticsError\u001b[0m                           Traceback (most recent call last)",
      "\u001b[1;32m~\\AppData\\Local\\Temp\\ipykernel_8528\\1629357655.py\u001b[0m in \u001b[0;36m<module>\u001b[1;34m\u001b[0m\n\u001b[1;32m----> 1\u001b[1;33m \u001b[0mprint\u001b[0m\u001b[1;33m(\u001b[0m\u001b[1;33m[\u001b[0m\u001b[0mround\u001b[0m\u001b[1;33m(\u001b[0m\u001b[0mq\u001b[0m\u001b[1;33m,\u001b[0m \u001b[1;36m2\u001b[0m\u001b[1;33m)\u001b[0m \u001b[1;32mfor\u001b[0m \u001b[0mq\u001b[0m \u001b[1;32min\u001b[0m \u001b[0msts\u001b[0m\u001b[1;33m.\u001b[0m\u001b[0mquantiles\u001b[0m\u001b[1;33m(\u001b[0m\u001b[0marg1\u001b[0m\u001b[1;33m,\u001b[0m \u001b[0mn\u001b[0m\u001b[1;33m=\u001b[0m\u001b[1;36m4\u001b[0m\u001b[1;33m)\u001b[0m\u001b[1;33m]\u001b[0m\u001b[1;33m)\u001b[0m\u001b[1;33m\u001b[0m\u001b[1;33m\u001b[0m\u001b[0m\n\u001b[0m",
      "\u001b[1;32mC:\\ProgramData\\Anaconda3\\lib\\statistics.py\u001b[0m in \u001b[0;36mquantiles\u001b[1;34m(data, n, method)\u001b[0m\n\u001b[0;32m    638\u001b[0m     \u001b[0mld\u001b[0m \u001b[1;33m=\u001b[0m \u001b[0mlen\u001b[0m\u001b[1;33m(\u001b[0m\u001b[0mdata\u001b[0m\u001b[1;33m)\u001b[0m\u001b[1;33m\u001b[0m\u001b[1;33m\u001b[0m\u001b[0m\n\u001b[0;32m    639\u001b[0m     \u001b[1;32mif\u001b[0m \u001b[0mld\u001b[0m \u001b[1;33m<\u001b[0m \u001b[1;36m2\u001b[0m\u001b[1;33m:\u001b[0m\u001b[1;33m\u001b[0m\u001b[1;33m\u001b[0m\u001b[0m\n\u001b[1;32m--> 640\u001b[1;33m         \u001b[1;32mraise\u001b[0m \u001b[0mStatisticsError\u001b[0m\u001b[1;33m(\u001b[0m\u001b[1;34m'must have at least two data points'\u001b[0m\u001b[1;33m)\u001b[0m\u001b[1;33m\u001b[0m\u001b[1;33m\u001b[0m\u001b[0m\n\u001b[0m\u001b[0;32m    641\u001b[0m     \u001b[1;32mif\u001b[0m \u001b[0mmethod\u001b[0m \u001b[1;33m==\u001b[0m \u001b[1;34m'inclusive'\u001b[0m\u001b[1;33m:\u001b[0m\u001b[1;33m\u001b[0m\u001b[1;33m\u001b[0m\u001b[0m\n\u001b[0;32m    642\u001b[0m         \u001b[0mm\u001b[0m \u001b[1;33m=\u001b[0m \u001b[0mld\u001b[0m \u001b[1;33m-\u001b[0m \u001b[1;36m1\u001b[0m\u001b[1;33m\u001b[0m\u001b[1;33m\u001b[0m\u001b[0m\n",
      "\u001b[1;31mStatisticsError\u001b[0m: must have at least two data points"
     ]
    }
   ],
   "source": [
    "print([round(q, 2) for q in sts.quantiles(arg1, n=4)])"
   ]
  },
  {
   "cell_type": "markdown",
   "id": "7bae7210",
   "metadata": {},
   "source": [
    "### 18. Deciles"
   ]
  },
  {
   "cell_type": "code",
   "execution_count": 31,
   "id": "babf1a90",
   "metadata": {},
   "outputs": [
    {
     "name": "stdout",
     "output_type": "stream",
     "text": [
      "[131.0, 135.2, 142.0, 146.0, 148.5, 157.8, 162.0, 166.8, 174.8]\n"
     ]
    }
   ],
   "source": [
    "print([round(q, 2) for q in sts.quantiles(arg1, n=10)])"
   ]
  },
  {
   "cell_type": "markdown",
   "id": "7f816566",
   "metadata": {},
   "source": [
    "### 19. Perciles"
   ]
  },
  {
   "cell_type": "code",
   "execution_count": 38,
   "id": "c716b4be",
   "metadata": {},
   "outputs": [
    {
     "ename": "StatisticsError",
     "evalue": "must have at least two data points",
     "output_type": "error",
     "traceback": [
      "\u001b[1;31m---------------------------------------------------------------------------\u001b[0m",
      "\u001b[1;31mStatisticsError\u001b[0m                           Traceback (most recent call last)",
      "\u001b[1;32m~\\AppData\\Local\\Temp\\ipykernel_8528\\3268975843.py\u001b[0m in \u001b[0;36m<module>\u001b[1;34m\u001b[0m\n\u001b[1;32m----> 1\u001b[1;33m \u001b[0mprint\u001b[0m\u001b[1;33m(\u001b[0m\u001b[1;33m[\u001b[0m\u001b[0mround\u001b[0m\u001b[1;33m(\u001b[0m\u001b[0mq\u001b[0m\u001b[1;33m,\u001b[0m \u001b[1;36m2\u001b[0m\u001b[1;33m)\u001b[0m \u001b[1;32mfor\u001b[0m \u001b[0mq\u001b[0m \u001b[1;32min\u001b[0m \u001b[0msts\u001b[0m\u001b[1;33m.\u001b[0m\u001b[0mquantiles\u001b[0m\u001b[1;33m(\u001b[0m\u001b[0marg1\u001b[0m\u001b[1;33m,\u001b[0m \u001b[0mn\u001b[0m\u001b[1;33m=\u001b[0m\u001b[1;36m100\u001b[0m\u001b[1;33m)\u001b[0m\u001b[1;33m]\u001b[0m\u001b[1;33m)\u001b[0m\u001b[1;33m\u001b[0m\u001b[1;33m\u001b[0m\u001b[0m\n\u001b[0m",
      "\u001b[1;32mC:\\ProgramData\\Anaconda3\\lib\\statistics.py\u001b[0m in \u001b[0;36mquantiles\u001b[1;34m(data, n, method)\u001b[0m\n\u001b[0;32m    638\u001b[0m     \u001b[0mld\u001b[0m \u001b[1;33m=\u001b[0m \u001b[0mlen\u001b[0m\u001b[1;33m(\u001b[0m\u001b[0mdata\u001b[0m\u001b[1;33m)\u001b[0m\u001b[1;33m\u001b[0m\u001b[1;33m\u001b[0m\u001b[0m\n\u001b[0;32m    639\u001b[0m     \u001b[1;32mif\u001b[0m \u001b[0mld\u001b[0m \u001b[1;33m<\u001b[0m \u001b[1;36m2\u001b[0m\u001b[1;33m:\u001b[0m\u001b[1;33m\u001b[0m\u001b[1;33m\u001b[0m\u001b[0m\n\u001b[1;32m--> 640\u001b[1;33m         \u001b[1;32mraise\u001b[0m \u001b[0mStatisticsError\u001b[0m\u001b[1;33m(\u001b[0m\u001b[1;34m'must have at least two data points'\u001b[0m\u001b[1;33m)\u001b[0m\u001b[1;33m\u001b[0m\u001b[1;33m\u001b[0m\u001b[0m\n\u001b[0m\u001b[0;32m    641\u001b[0m     \u001b[1;32mif\u001b[0m \u001b[0mmethod\u001b[0m \u001b[1;33m==\u001b[0m \u001b[1;34m'inclusive'\u001b[0m\u001b[1;33m:\u001b[0m\u001b[1;33m\u001b[0m\u001b[1;33m\u001b[0m\u001b[0m\n\u001b[0;32m    642\u001b[0m         \u001b[0mm\u001b[0m \u001b[1;33m=\u001b[0m \u001b[0mld\u001b[0m \u001b[1;33m-\u001b[0m \u001b[1;36m1\u001b[0m\u001b[1;33m\u001b[0m\u001b[1;33m\u001b[0m\u001b[0m\n",
      "\u001b[1;31mStatisticsError\u001b[0m: must have at least two data points"
     ]
    }
   ],
   "source": [
    "print([round(q, 2) for q in sts.quantiles(arg1, n=100)])"
   ]
  },
  {
   "cell_type": "markdown",
   "id": "c5f9e6f4",
   "metadata": {},
   "source": [
    "### 20. Realizar el histograma con Matplotlib"
   ]
  },
  {
   "cell_type": "code",
   "execution_count": 40,
   "id": "1677c84b",
   "metadata": {},
   "outputs": [
    {
     "name": "stdout",
     "output_type": "stream",
     "text": [
      "[1.2  1.22 1.23 1.24 1.24 1.25 1.28 1.29 1.29 1.29 1.29 1.3  1.31 1.31\n",
      " 1.32 1.32 1.34 1.35 1.37 1.39 1.39 1.4  1.41 1.41 1.42 1.42 1.44 1.44\n",
      " 1.45 1.49 1.49 1.49 1.5  1.5  1.51 1.51 1.52 1.52 1.53 1.53 1.54 1.55\n",
      " 1.56 1.56 1.57 1.57 1.57 1.58 1.59 1.6 ]\n"
     ]
    },
    {
     "data": {
      "image/png": "[encoded data removed]",
      "text/plain": [
       "<Figure size 640x480 with 1 Axes>"
      ]
     },
     "metadata": {},
     "output_type": "display_data"
    }
   ],
   "source": [
    "arg2 = np.sort(np.reshape(arg1, 50))\n",
    "b=np.arange(arg2[0],arg2[49],0.34888,dtype=np.float16)\n",
    "\n",
    "fig, ax = plt.subplots()\n",
    "hist=ax.hist(arg2, bins=b,range=(arg2[0],arg2[49]), linewidth=0.3, edgecolor=\"blue\")\n",
    "plt.xticks(fontsize=6)\n",
    "ax.set(xlim=(1.15, 1.65), xticks=np.arange(1.15, 1.65,0.2),\n",
    "       ylim=(0.0, 6.0), yticks=np.arange(0.0, 6.0,1.0,dtype=np.float16))\n",
    "ax.grid(True)\n",
    "\n",
    "print(arg2)\n",
    "plt.show()"
   ]
  },
  {
   "cell_type": "code",
   "execution_count": null,
   "id": "ad688b51",
   "metadata": {},
   "outputs": [],
   "source": []
  }
 ],
 "metadata": {
  "kernelspec": {
   "display_name": "Python 3 (ipykernel)",
   "language": "python",
   "name": "python3"
  },
  "language_info": {
   "codemirror_mode": {
    "name": "ipython",
    "version": 3
   },
   "file_extension": ".py",
   "mimetype": "text/x-python",
   "name": "python",
   "nbconvert_exporter": "python",
   "pygments_lexer": "ipython3",
   "version": "3.9.13"
  }
 },
 "nbformat": 4,
 "nbformat_minor": 5
}
