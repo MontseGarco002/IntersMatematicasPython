{
 "cells": [
  {
   "cell_type": "code",
   "execution_count": 1,
   "id": "4671f5ae",
   "metadata": {},
   "outputs": [],
   "source": [
    "import matplotlib.pyplot as plt\n",
    "import numpy as np\n",
    "import statistics as sts"
   ]
  },
  {
   "cell_type": "markdown",
   "id": "0ecd7913",
   "metadata": {},
   "source": [
    "# Los datos siguientes muestran los pesos de 50 estudiantes que se registraron con aproximación de una libra."
   ]
  },
  {
   "cell_type": "code",
   "execution_count": 2,
   "id": "7822e93a",
   "metadata": {},
   "outputs": [],
   "source": [
    "arg1=np.array([159, 136, 180, 129, 162, 150, 129, 146, 128, 178, 144, 167, 132, 172, 156,\n",
    "        178, 129, 142, 146, 159, 131, 135, 168, 152, 163, 145, 173, 147, 137, 143, \n",
    "        142, 133, 152, 166, 146, 131, 131, 160, 162, 146, 151, 179, 146, 142, 172,\n",
    "        175, 166, 137, 162, 159])"
   ]
  },
  {
   "cell_type": "markdown",
   "id": "3fdcca04",
   "metadata": {},
   "source": [
    "### De los datos de arriba encontrar la siguiente información:"
   ]
  },
  {
   "cell_type": "markdown",
   "id": "378fbd23",
   "metadata": {},
   "source": [
    "### 1. El valor más grande"
   ]
  },
  {
   "cell_type": "code",
   "execution_count": 3,
   "id": "eefd96b9",
   "metadata": {
    "scrolled": true
   },
   "outputs": [
    {
     "name": "stdout",
     "output_type": "stream",
     "text": [
      "El valor más grande es: 180\n"
     ]
    }
   ],
   "source": [
    "print(\"El valor más grande es:\",np.max(arg1))"
   ]
  },
  {
   "cell_type": "markdown",
   "id": "0fdfc1e3",
   "metadata": {},
   "source": [
    "### 2. El valor más pequeño"
   ]
  },
  {
   "cell_type": "code",
   "execution_count": 4,
   "id": "daa5d111",
   "metadata": {},
   "outputs": [
    {
     "name": "stdout",
     "output_type": "stream",
     "text": [
      "El valor más pequeño es: 128\n"
     ]
    }
   ],
   "source": [
    "print(\"El valor más pequeño es:\",np.min(arg1))"
   ]
  },
  {
   "cell_type": "markdown",
   "id": "2fb43cfd",
   "metadata": {},
   "source": [
    "### 3. Obtuvieron 125 o más"
   ]
  },
  {
   "cell_type": "code",
   "execution_count": 5,
   "id": "59cbd86d",
   "metadata": {},
   "outputs": [
    {
     "name": "stdout",
     "output_type": "stream",
     "text": [
      "Cantidad que obtuvieron 125 o mas: 50\n"
     ]
    }
   ],
   "source": [
    "print(\"Cantidad que obtuvieron 125 o mas:\", np.where(arg1 >= 125, 1, 0).sum())"
   ]
  },
  {
   "cell_type": "markdown",
   "id": "a334545b",
   "metadata": {},
   "source": [
    "### 4. Obtuvieron 138 ó más "
   ]
  },
  {
   "cell_type": "code",
   "execution_count": 6,
   "id": "24da1dcc",
   "metadata": {},
   "outputs": [
    {
     "name": "stdout",
     "output_type": "stream",
     "text": [
      "Cantidad que obtuvieron 138 o menos: 13\n"
     ]
    }
   ],
   "source": [
    "print(\"Cantidad que obtuvieron 138 o menos:\", np.where(arg1 <= 138, 1, 0).sum())"
   ]
  },
  {
   "cell_type": "markdown",
   "id": "1d735214",
   "metadata": {},
   "source": [
    "### 5. Porcentaje de valores (129<=x>=146, dato1)"
   ]
  },
  {
   "cell_type": "code",
   "execution_count": 7,
   "id": "ffb9a2c0",
   "metadata": {},
   "outputs": [
    {
     "name": "stdout",
     "output_type": "stream",
     "text": [
      "% de pesos de los estudiantes entre 129<=x>=146 libras:  48.0 %\n"
     ]
    }
   ],
   "source": [
    "porcentaje=np.where((arg1>=129) & (arg1<=147),1,0).sum()/50\n",
    "print(\"% de pesos de los estudiantes entre 129<=x>=146 libras: \",porcentaje*100,\"%\")\n",
    "\n"
   ]
  },
  {
   "cell_type": "markdown",
   "id": "a832890f",
   "metadata": {},
   "source": [
    "### 6. Frecuencias absolutas simples"
   ]
  },
  {
   "cell_type": "code",
   "execution_count": 10,
   "id": "1ad7a553",
   "metadata": {},
   "outputs": [
    {
     "name": "stdout",
     "output_type": "stream",
     "text": [
      "La frecuencia absoluta simple es:  [1 3 3 1 1 1 1 2 3 1 1 1 5 1 1 1 2 1 3 1 3 1 2 1 1 2 1 1 2 1 1]\n"
     ]
    }
   ],
   "source": [
    "variables,repetidas = np.unique(arg1,return_counts = True)\n",
    "\n",
    "frecuencia_absoluta_simple=repetidas\n",
    "\n",
    "print(\"La frecuencia absoluta simple es: \", frecuencia_absoluta_simple)"
   ]
  },
  {
   "cell_type": "markdown",
   "id": "c40bccea",
   "metadata": {},
   "source": [
    "### 7. Frecuencias absolutas acumuladas"
   ]
  },
  {
   "cell_type": "code",
   "execution_count": 11,
   "id": "4a095630",
   "metadata": {},
   "outputs": [
    {
     "name": "stdout",
     "output_type": "stream",
     "text": [
      "La frecuencia absoluta acumulada es:  [ 1  4  7  8  9 10 11 13 16 17 18 19 24 25 26 27 29 30 33 34 37 38 40 41\n",
      " 42 44 45 46 48 49 50]\n"
     ]
    }
   ],
   "source": [
    "frecuencia_absoluta_acumulada=np.cumsum(frecuencia_absoluta_simple)\n",
    "\n",
    "print(\"La frecuencia absoluta acumulada es: \",frecuencia_absoluta_acumulada)"
   ]
  },
  {
   "cell_type": "markdown",
   "id": "f40b9d1f",
   "metadata": {},
   "source": [
    "### 8. Frecuencias relativas simples"
   ]
  },
  {
   "cell_type": "code",
   "execution_count": 12,
   "id": "8a1c1bce",
   "metadata": {},
   "outputs": [
    {
     "name": "stdout",
     "output_type": "stream",
     "text": [
      "La frecuencia relativa simple es:  [ 2.  6.  6.  2.  2.  2.  2.  4.  6.  2.  2.  2. 10.  2.  2.  2.  4.  2.\n",
      "  6.  2.  6.  2.  4.  2.  2.  4.  2.  2.  4.  2.  2.]\n"
     ]
    }
   ],
   "source": [
    "frecuencia_relativa_simple = np.round((((frecuencia_absoluta_simple)/50)*100),2)\n",
    "\n",
    "print(\"La frecuencia relativa simple es: \",frecuencia_relativa_simple)"
   ]
  },
  {
   "cell_type": "markdown",
   "id": "89f89189",
   "metadata": {},
   "source": [
    "### 9. Frecuencias relativas acumuladas"
   ]
  },
  {
   "cell_type": "code",
   "execution_count": 13,
   "id": "2d65e740",
   "metadata": {
    "scrolled": true
   },
   "outputs": [
    {
     "name": "stdout",
     "output_type": "stream",
     "text": [
      "La frecuencia relativa acumulada es:  [  2.   8.  14.  16.  18.  20.  22.  26.  32.  34.  36.  38.  48.  50.\n",
      "  52.  54.  58.  60.  66.  68.  74.  76.  80.  82.  84.  88.  90.  92.\n",
      "  96.  98. 100.]\n"
     ]
    }
   ],
   "source": [
    "frecuencia_relativa_acumulada=np.cumsum(frecuencia_relativa_simple)\n",
    "\n",
    "print(\"La frecuencia relativa acumulada es: \",frecuencia_relativa_acumulada)"
   ]
  },
  {
   "cell_type": "markdown",
   "id": "6c0a5791",
   "metadata": {},
   "source": [
    "### 10. Media aritmética valores agrupados"
   ]
  },
  {
   "cell_type": "code",
   "execution_count": 19,
   "id": "52fa04fd",
   "metadata": {},
   "outputs": [
    {
     "name": "stdout",
     "output_type": "stream",
     "text": [
      "La media agrupada es: [128. 129. 131. 132. 133. 135. 136. 137. 142. 143. 144. 145. 146. 147.\n",
      " 150. 151. 152. 156. 159. 160. 162. 163. 166. 167. 168. 172. 173. 175.\n",
      " 178. 179. 180.]\n"
     ]
    }
   ],
   "source": [
    "media_agrupada = np.array([np.mean(arg1[arg1 == i]) for i in np.unique(arg1)])\n",
    "print(\"La media agrupada es:\", media_agrupada)"
   ]
  },
  {
   "cell_type": "markdown",
   "id": "cf2281e0",
   "metadata": {},
   "source": [
    "### 11. Media aritmética de valores no agrupados"
   ]
  },
  {
   "cell_type": "code",
   "execution_count": 22,
   "id": "3efa7c36",
   "metadata": {
    "scrolled": true
   },
   "outputs": [
    {
     "name": "stdout",
     "output_type": "stream",
     "text": [
      "La media Aritmetica no agrupada es: 151.48\n"
     ]
    }
   ],
   "source": [
    "media_no_agrupada = np.mean(arg1)\n",
    "print(\"La media Aritmetica no agrupada es:\" , media_no_agrupada)"
   ]
  },
  {
   "cell_type": "markdown",
   "id": "2842244a",
   "metadata": {},
   "source": [
    "### 12. Media Geométrica"
   ]
  },
  {
   "cell_type": "code",
   "execution_count": 23,
   "id": "0a4b1afb",
   "metadata": {},
   "outputs": [
    {
     "name": "stdout",
     "output_type": "stream",
     "text": [
      "La media geometrica agrupda es igua a :  nan\n",
      "La media geometrica no agrupda es igua a :  0.0\n"
     ]
    },
    {
     "name": "stderr",
     "output_type": "stream",
     "text": [
      "C:\\Users\\MONTSE GARCIA\\AppData\\Local\\Temp\\ipykernel_13620\\4052627480.py:2: RuntimeWarning: invalid value encountered in power\n",
      "  media_g_agrupados=np.power(np.product(variables**repetidas),1/50)\n"
     ]
    }
   ],
   "source": [
    "#Media Geométrica datos agrupados\n",
    "media_g_agrupados=np.power(np.product(variables**repetidas),1/50)\n",
    "print(\"La media geometrica agrupda es igua a : \", media_g_agrupados)\n",
    "\n",
    "#Media Geométrica de datos no agrupados\n",
    "media_g_noagrupados=np.power(np.product(arg1),1/50)\n",
    "print(\"La media geometrica no agrupda es igua a : \", media_g_noagrupados)\n"
   ]
  },
  {
   "cell_type": "markdown",
   "id": "7e49e881",
   "metadata": {},
   "source": [
    "### 13. Media Armónica H"
   ]
  },
  {
   "cell_type": "code",
   "execution_count": 25,
   "id": "3e9900cb",
   "metadata": {},
   "outputs": [
    {
     "name": "stdout",
     "output_type": "stream",
     "text": [
      "149.90230829714335\n"
     ]
    }
   ],
   "source": [
    "#Media armónica H\n",
    "print(sts.harmonic_mean(arg1))"
   ]
  },
  {
   "cell_type": "markdown",
   "id": "6017af82",
   "metadata": {},
   "source": [
    "### 14. Mediana"
   ]
  },
  {
   "cell_type": "code",
   "execution_count": 26,
   "id": "306e5e88",
   "metadata": {},
   "outputs": [
    {
     "name": "stdout",
     "output_type": "stream",
     "text": [
      "Mediana 148.5\n"
     ]
    }
   ],
   "source": [
    "#Mediana\n",
    "print(\"Mediana\", np.median(arg1))"
   ]
  },
  {
   "cell_type": "markdown",
   "id": "c5665bea",
   "metadata": {},
   "source": [
    "### 15. Moda "
   ]
  },
  {
   "cell_type": "code",
   "execution_count": 27,
   "id": "4b2b4e24",
   "metadata": {},
   "outputs": [
    {
     "name": "stdout",
     "output_type": "stream",
     "text": [
      "Moda 146\n"
     ]
    }
   ],
   "source": [
    "#Moda\n",
    "print(\"Moda\",sts.mode(arg1))"
   ]
  },
  {
   "cell_type": "markdown",
   "id": "9f16141e",
   "metadata": {},
   "source": [
    "### 16. Multiples modas "
   ]
  },
  {
   "cell_type": "code",
   "execution_count": 28,
   "id": "c1d94f60",
   "metadata": {},
   "outputs": [
    {
     "name": "stdout",
     "output_type": "stream",
     "text": [
      "[146]\n"
     ]
    }
   ],
   "source": [
    "#Multiples modas (distribución bimodal)\n",
    "print(sts.multimode(arg1))\n"
   ]
  },
  {
   "cell_type": "markdown",
   "id": "30ee8897",
   "metadata": {},
   "source": [
    "### 17. Cuartiles"
   ]
  },
  {
   "cell_type": "code",
   "execution_count": 29,
   "id": "fee8f3f4",
   "metadata": {},
   "outputs": [
    {
     "name": "stdout",
     "output_type": "stream",
     "text": [
      "[137.0, 148.5, 163.75]\n"
     ]
    }
   ],
   "source": [
    "print([round(q, 2) for q in sts.quantiles(arg1, n=4)])"
   ]
  },
  {
   "cell_type": "markdown",
   "id": "7bae7210",
   "metadata": {},
   "source": [
    "### 18. Deciles"
   ]
  },
  {
   "cell_type": "code",
   "execution_count": 31,
   "id": "babf1a90",
   "metadata": {},
   "outputs": [
    {
     "name": "stdout",
     "output_type": "stream",
     "text": [
      "[131.0, 135.2, 142.0, 146.0, 148.5, 157.8, 162.0, 166.8, 174.8]\n"
     ]
    }
   ],
   "source": [
    "print([round(q, 2) for q in sts.quantiles(arg1, n=10)])"
   ]
  },
  {
   "cell_type": "markdown",
   "id": "7f816566",
   "metadata": {},
   "source": [
    "### 19. Perciles"
   ]
  },
  {
   "cell_type": "code",
   "execution_count": 32,
   "id": "c716b4be",
   "metadata": {},
   "outputs": [
    {
     "name": "stdout",
     "output_type": "stream",
     "text": [
      "[127.51, 128.02, 128.53, 129.0, 129.0, 129.0, 129.0, 129.16, 130.18, 131.0, 131.0, 131.0, 131.0, 131.14, 131.65, 132.16, 132.67, 133.36, 134.38, 135.2, 135.71, 136.22, 136.73, 137.0, 137.0, 138.3, 140.85, 142.0, 142.0, 142.0, 142.0, 142.32, 142.83, 143.34, 143.85, 144.36, 144.87, 145.38, 145.89, 146.0, 146.0, 146.0, 146.0, 146.0, 146.0, 146.0, 146.0, 146.48, 146.99, 148.5, 150.01, 150.52, 151.03, 151.54, 152.0, 152.0, 152.28, 154.32, 156.27, 157.8, 159.0, 159.0, 159.0, 159.0, 159.15, 159.66, 160.34, 161.36, 162.0, 162.0, 162.0, 162.0, 162.23, 162.74, 163.75, 165.28, 166.0, 166.0, 166.29, 166.8, 167.31, 167.82, 169.32, 171.36, 172.0, 172.0, 172.37, 172.88, 173.78, 174.8, 176.23, 177.76, 178.0, 178.0, 178.45, 178.96, 179.47, 179.98, 180.49]\n"
     ]
    }
   ],
   "source": [
    "print([round(q, 2) for q in sts.quantiles(arg1, n=100)])"
   ]
  },
  {
   "cell_type": "markdown",
   "id": "c5f9e6f4",
   "metadata": {},
   "source": [
    "### 20. Realizar el histograma con Matplotlib"
   ]
  },
  {
   "cell_type": "code",
   "execution_count": 46,
   "id": "1677c84b",
   "metadata": {},
   "outputs": [
    {
     "name": "stdout",
     "output_type": "stream",
     "text": [
      "[128 129 129 129 131 131 131 132 133 135 136 137 137 142 142 142 143 144\n",
      " 145 146 146 146 146 146 147 150 151 152 152 156 159 159 159 160 162 162\n",
      " 162 163 166 166 167 168 172 172 173 175 178 178 179 180]\n"
     ]
    },
    {
     "data": {
      "image/png": "[encoded data removed]",
      "text/plain": [
       "<Figure size 640x480 with 1 Axes>"
      ]
     },
     "metadata": {},
     "output_type": "display_data"
    }
   ],
   "source": [
    "arg2 = np.sort(np.reshape(arg1, 50))\n",
    "b=np.arange(arg2[0],arg1[49],dtype=np.int16)\n",
    "\n",
    "fig, ax = plt.subplots()\n",
    "hist=ax.hist(arg2, bins=b,range=(arg2[0],arg2[49]), linewidth=0.5, edgecolor=\"red\")\n",
    "plt.xticks(fontsize=6)\n",
    "ax.set(xlim=(127, 179), xticks=np.arange(127, 179,2),\n",
    "       ylim=(0, 6), yticks=np.arange(0,6,1,dtype=np.int16))\n",
    "ax.grid(True)\n",
    "\n",
    "print(arg2)\n",
    "#plt.show()"
   ]
  }
 ],
 "metadata": {
  "kernelspec": {
   "display_name": "Python 3 (ipykernel)",
   "language": "python",
   "name": "python3"
  },
  "language_info": {
   "codemirror_mode": {
    "name": "ipython",
    "version": 3
   },
   "file_extension": ".py",
   "mimetype": "text/x-python",
   "name": "python",
   "nbconvert_exporter": "python",
   "pygments_lexer": "ipython3",
   "version": "3.9.13"
  }
 },
 "nbformat": 4,
 "nbformat_minor": 5
}
